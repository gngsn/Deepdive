{
  "nbformat": 4,
  "nbformat_minor": 0,
  "metadata": {
    "colab": {
      "name": "빅데이터_3주차_1_박경선(20171101).ipynb",
      "provenance": [],
      "collapsed_sections": []
    },
    "kernelspec": {
      "name": "python3",
      "display_name": "Python 3"
    },
    "language_info": {
      "name": "python"
    }
  },
  "cells": [
    {
      "cell_type": "markdown",
      "metadata": {
        "id": "W2JYOPQUnPdJ"
      },
      "source": [
        "## 학과: IT 미디어 공학과\n",
        "## 학번: 20171101\n",
        "## 이름(영문이름): 박경선(gyeongseon park)"
      ]
    },
    {
      "cell_type": "markdown",
      "metadata": {
        "id": "MUOLU69ktLhy"
      },
      "source": [
        "## <Step1. 탐색> : 데이터의 기초 정보 살펴보기"
      ]
    },
    {
      "cell_type": "markdown",
      "metadata": {
        "id": "49TAS-wwnn7s"
      },
      "source": [
        "**[1.1] Chipotle 데이터셋의 기본 정보 출력하기**\n",
        "\n",
        "- shape 속성, info()"
      ]
    },
    {
      "cell_type": "code",
      "metadata": {
        "colab": {
          "resources": {
            "http://localhost:8080/nbextensions/google.colab/files.js": {
              "data": "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",
              "ok": true,
              "headers": [
                [
                  "content-type",
                  "application/javascript"
                ]
              ],
              "status": 200,
              "status_text": ""
            }
          },
          "base_uri": "https://localhost:8080/",
          "height": 74
        },
        "id": "87of-Vd1nGp0",
        "outputId": "832f3587-eacd-40e2-e7f4-d48b28a303df"
      },
      "source": [
        "# 로컬 디스크 데이터를 가져오기 위해 google.colab에서 files라는 package를 impor한다.\n",
        "from google.colab import files\n",
        "\n",
        "# files.upload()에 의해 [파일 선택] 버튼이 생성된다.\n",
        "uploaded = files.upload()"
      ],
      "execution_count": 1,
      "outputs": [
        {
          "output_type": "display_data",
          "data": {
            "text/html": [
              "\n",
              "     <input type=\"file\" id=\"files-fa2d686d-4f94-427b-b376-516965e81362\" name=\"files[]\" multiple disabled\n",
              "        style=\"border:none\" />\n",
              "     <output id=\"result-fa2d686d-4f94-427b-b376-516965e81362\">\n",
              "      Upload widget is only available when the cell has been executed in the\n",
              "      current browser session. Please rerun this cell to enable.\n",
              "      </output>\n",
              "      <script src=\"/nbextensions/google.colab/files.js\"></script> "
            ],
            "text/plain": [
              "<IPython.core.display.HTML object>"
            ]
          },
          "metadata": {}
        },
        {
          "output_type": "stream",
          "name": "stdout",
          "text": [
            "Saving chipotle.tsv to chipotle.tsv\n"
          ]
        }
      ]
    },
    {
      "cell_type": "code",
      "metadata": {
        "id": "4aMXhcYMoAAs"
      },
      "source": [
        "# pandas와 추가적으로 io 채키지가 필요하다.\n",
        "import pandas as pd\n",
        "import io\n",
        "\n",
        "# read_csv()으로 업로드된 파일을 Byte단위로 읽어서 chipo 데이터프레임을 생성한다.\n",
        "chipo = pd.read_csv(io.BytesIO(uploaded['chipotle.tsv']), sep='\\t')"
      ],
      "execution_count": 2,
      "outputs": []
    },
    {
      "cell_type": "markdown",
      "metadata": {
        "id": "6wyUE_kvojvx"
      },
      "source": [
        "[참고] 주피터 노트북을 PC에 설치하여 사용할 경우 데이터를 불러오는 방법"
      ]
    },
    {
      "cell_type": "code",
      "metadata": {
        "id": "TjTsLXploiyQ"
      },
      "source": [
        "import pandas as pd\n",
        "\n",
        "file_path = '../data/chipotle.tsv'\n",
        "chipo = pd.read_csv(file_path, sep='\\t')"
      ],
      "execution_count": 37,
      "outputs": []
    },
    {
      "cell_type": "code",
      "metadata": {
        "colab": {
          "base_uri": "https://localhost:8080/"
        },
        "id": "NH8ZQ2nPo8VD",
        "outputId": "c1ca301e-95b5-447a-d85f-569bf76587e7"
      },
      "source": [
        "# shape 속성은 데이터프레임의 행과 열의 크기를 제공한다.\n",
        "print(chipo.shape)\n",
        "print('----------------------------------------')\n",
        "# info()는 데이터프레임의 행과 열의 구성정보를 제공한다.\n",
        "print(chipo.info())\n",
        "# print(chipo.head(20))"
      ],
      "execution_count": 39,
      "outputs": [
        {
          "output_type": "stream",
          "name": "stdout",
          "text": [
            "(4622, 5)\n",
            "----------------------------------------\n",
            "<class 'pandas.core.frame.DataFrame'>\n",
            "RangeIndex: 4622 entries, 0 to 4621\n",
            "Data columns (total 5 columns):\n",
            " #   Column              Non-Null Count  Dtype  \n",
            "---  ------              --------------  -----  \n",
            " 0   order_id            4622 non-null   object \n",
            " 1   quantity            4622 non-null   int64  \n",
            " 2   item_name           4622 non-null   object \n",
            " 3   choice_description  3376 non-null   object \n",
            " 4   item_price          4622 non-null   float64\n",
            "dtypes: float64(1), int64(1), object(3)\n",
            "memory usage: 180.7+ KB\n",
            "None\n"
          ]
        }
      ]
    },
    {
      "cell_type": "markdown",
      "metadata": {
        "id": "N3lDTb39pTfk"
      },
      "source": [
        "**[1.2] chipotle 데이터셋의 행과 열, 데이터 확인하기**\n",
        "\n",
        "- Head(), columns 속성, index 속성"
      ]
    },
    {
      "cell_type": "code",
      "metadata": {
        "colab": {
          "base_uri": "https://localhost:8080/",
          "height": 478
        },
        "id": "Xm5YkKagpZKw",
        "outputId": "d04f4e4b-d86c-4cfe-ce08-2b803247a4a2"
      },
      "source": [
        "# chipo 데이터프레임에서 상위 10개의 행을 보여준다.\n",
        "chipo.head(10)"
      ],
      "execution_count": 6,
      "outputs": [
        {
          "output_type": "execute_result",
          "data": {
            "text/html": [
              "<div>\n",
              "<style scoped>\n",
              "    .dataframe tbody tr th:only-of-type {\n",
              "        vertical-align: middle;\n",
              "    }\n",
              "\n",
              "    .dataframe tbody tr th {\n",
              "        vertical-align: top;\n",
              "    }\n",
              "\n",
              "    .dataframe thead th {\n",
              "        text-align: right;\n",
              "    }\n",
              "</style>\n",
              "<table border=\"1\" class=\"dataframe\">\n",
              "  <thead>\n",
              "    <tr style=\"text-align: right;\">\n",
              "      <th></th>\n",
              "      <th>order_id</th>\n",
              "      <th>quantity</th>\n",
              "      <th>item_name</th>\n",
              "      <th>choice_description</th>\n",
              "      <th>item_price</th>\n",
              "    </tr>\n",
              "  </thead>\n",
              "  <tbody>\n",
              "    <tr>\n",
              "      <th>0</th>\n",
              "      <td>1</td>\n",
              "      <td>1</td>\n",
              "      <td>Chips and Fresh Tomato Salsa</td>\n",
              "      <td>NaN</td>\n",
              "      <td>$2.39</td>\n",
              "    </tr>\n",
              "    <tr>\n",
              "      <th>1</th>\n",
              "      <td>1</td>\n",
              "      <td>1</td>\n",
              "      <td>Izze</td>\n",
              "      <td>[Clementine]</td>\n",
              "      <td>$3.39</td>\n",
              "    </tr>\n",
              "    <tr>\n",
              "      <th>2</th>\n",
              "      <td>1</td>\n",
              "      <td>1</td>\n",
              "      <td>Nantucket Nectar</td>\n",
              "      <td>[Apple]</td>\n",
              "      <td>$3.39</td>\n",
              "    </tr>\n",
              "    <tr>\n",
              "      <th>3</th>\n",
              "      <td>1</td>\n",
              "      <td>1</td>\n",
              "      <td>Chips and Tomatillo-Green Chili Salsa</td>\n",
              "      <td>NaN</td>\n",
              "      <td>$2.39</td>\n",
              "    </tr>\n",
              "    <tr>\n",
              "      <th>4</th>\n",
              "      <td>2</td>\n",
              "      <td>2</td>\n",
              "      <td>Chicken Bowl</td>\n",
              "      <td>[Tomatillo-Red Chili Salsa (Hot), [Black Beans...</td>\n",
              "      <td>$16.98</td>\n",
              "    </tr>\n",
              "    <tr>\n",
              "      <th>5</th>\n",
              "      <td>3</td>\n",
              "      <td>1</td>\n",
              "      <td>Chicken Bowl</td>\n",
              "      <td>[Fresh Tomato Salsa (Mild), [Rice, Cheese, Sou...</td>\n",
              "      <td>$10.98</td>\n",
              "    </tr>\n",
              "    <tr>\n",
              "      <th>6</th>\n",
              "      <td>3</td>\n",
              "      <td>1</td>\n",
              "      <td>Side of Chips</td>\n",
              "      <td>NaN</td>\n",
              "      <td>$1.69</td>\n",
              "    </tr>\n",
              "    <tr>\n",
              "      <th>7</th>\n",
              "      <td>4</td>\n",
              "      <td>1</td>\n",
              "      <td>Steak Burrito</td>\n",
              "      <td>[Tomatillo Red Chili Salsa, [Fajita Vegetables...</td>\n",
              "      <td>$11.75</td>\n",
              "    </tr>\n",
              "    <tr>\n",
              "      <th>8</th>\n",
              "      <td>4</td>\n",
              "      <td>1</td>\n",
              "      <td>Steak Soft Tacos</td>\n",
              "      <td>[Tomatillo Green Chili Salsa, [Pinto Beans, Ch...</td>\n",
              "      <td>$9.25</td>\n",
              "    </tr>\n",
              "    <tr>\n",
              "      <th>9</th>\n",
              "      <td>5</td>\n",
              "      <td>1</td>\n",
              "      <td>Steak Burrito</td>\n",
              "      <td>[Fresh Tomato Salsa, [Rice, Black Beans, Pinto...</td>\n",
              "      <td>$9.25</td>\n",
              "    </tr>\n",
              "  </tbody>\n",
              "</table>\n",
              "</div>"
            ],
            "text/plain": [
              "   order_id  ...  item_price\n",
              "0         1  ...      $2.39 \n",
              "1         1  ...      $3.39 \n",
              "2         1  ...      $3.39 \n",
              "3         1  ...      $2.39 \n",
              "4         2  ...     $16.98 \n",
              "5         3  ...     $10.98 \n",
              "6         3  ...      $1.69 \n",
              "7         4  ...     $11.75 \n",
              "8         4  ...      $9.25 \n",
              "9         5  ...      $9.25 \n",
              "\n",
              "[10 rows x 5 columns]"
            ]
          },
          "metadata": {},
          "execution_count": 6
        }
      ]
    },
    {
      "cell_type": "code",
      "metadata": {
        "colab": {
          "base_uri": "https://localhost:8080/"
        },
        "id": "-Ynv0hvPppe3",
        "outputId": "de087c60-90f5-4658-f7b1-ccb73e5ba4f9"
      },
      "source": [
        "# columns 속성은 컬럼에 대한 정보를 제공합나\n",
        "print(chipo.columns)\n",
        "print('----------------------------------------')\n",
        "# index 속성은 행에 대한 인덱스 정보를 제공한다.\n",
        "print(chipo.index)"
      ],
      "execution_count": 7,
      "outputs": [
        {
          "output_type": "stream",
          "name": "stdout",
          "text": [
            "Index(['order_id', 'quantity', 'item_name', 'choice_description',\n",
            "       'item_price'],\n",
            "      dtype='object')\n",
            "----------------------------------------\n",
            "RangeIndex(start=0, stop=4622, step=1)\n"
          ]
        }
      ]
    },
    {
      "cell_type": "markdown",
      "metadata": {
        "id": "bD6MvQhUwzZU"
      },
      "source": [
        "#### ✍️ Feature\n",
        "\n",
        "**✔️ 수치형 피처**\n",
        "\n",
        "describe()로 수치형 피처들의 기초 통계량 확인하기\n",
        "\n",
        "\n",
        "**✔️ 범주형 피처**\n",
        "\n",
        "unique()로 범주형 피처의 개수 출력하기 \n",
        "  -> 몇 개의 범주가 있는지 확인하기\n",
        "\n",
        "\n",
        "\n",
        "  ex. 주민번호로 성별을 구별한다 \n",
        "  -> 숫자보다는 문자열을 가지고 분석하는 경우가 더 많음."
      ]
    },
    {
      "cell_type": "markdown",
      "metadata": {
        "id": "zjgie5khp8I6"
      },
      "source": [
        "**[1.3] describe()로 수치형 피처들의 기초 통계량 확인하기**\n",
        "\n",
        "- describe() 함수"
      ]
    },
    {
      "cell_type": "code",
      "metadata": {
        "id": "kwORYEJ7qCY_"
      },
      "source": [
        "# order_id(주문번호)는 숫자의 의미를 가지지 않기 때문에\n",
        "# astype()을 이용하여 문자열(str)로 형변환한다.\n",
        "chipo['order_id'] = chipo['order_id'].astype(str)"
      ],
      "execution_count": 8,
      "outputs": []
    },
    {
      "cell_type": "code",
      "metadata": {
        "colab": {
          "base_uri": "https://localhost:8080/"
        },
        "id": "5QetEyhYuJ9J",
        "outputId": "f63b59a1-9e84-4a68-ec66-ba33c8b2bab7"
      },
      "source": [
        "print(chipo.describe())"
      ],
      "execution_count": 9,
      "outputs": [
        {
          "output_type": "stream",
          "name": "stdout",
          "text": [
            "          quantity\n",
            "count  4622.000000\n",
            "mean      1.075725\n",
            "std       0.410186\n",
            "min       1.000000\n",
            "25%       1.000000\n",
            "50%       1.000000\n",
            "75%       1.000000\n",
            "max      15.000000\n"
          ]
        }
      ]
    },
    {
      "cell_type": "markdown",
      "metadata": {
        "id": "LsxQR9BMqUFA"
      },
      "source": [
        "**[1.4] unique()로 범주형 피처의 개수 출력하기**\n",
        "- unique() 함수"
      ]
    },
    {
      "cell_type": "code",
      "metadata": {
        "colab": {
          "base_uri": "https://localhost:8080/"
        },
        "id": "i4MBF3MbqY55",
        "outputId": "569a0058-ee7a-47d4-b5d1-ff1758baa628"
      },
      "source": [
        "# order_id의 유일한 범주(category)의 개수를 출력합니다.\n",
        "print(len(chipo['order_id'].unique()))\n",
        "\n",
        "# item_name의 유일한 범주의 개수를 출력합니다.\n",
        "print(len(chipo['item_name'].unique()))"
      ],
      "execution_count": 10,
      "outputs": [
        {
          "output_type": "stream",
          "name": "stdout",
          "text": [
            "1834\n",
            "50\n"
          ]
        }
      ]
    },
    {
      "cell_type": "markdown",
      "metadata": {
        "id": "_FY2XYeeuaCU"
      },
      "source": [
        "## <step2. 인사이트의 발견> 탐색과 시각화하기"
      ]
    },
    {
      "cell_type": "markdown",
      "metadata": {
        "id": "xtn8WUJHueQ_"
      },
      "source": [
        "**[2.1] 가장 많이 주문한 아이템 Top 10**\n",
        "- value_counts() 함수"
      ]
    },
    {
      "cell_type": "code",
      "metadata": {
        "colab": {
          "base_uri": "https://localhost:8080/"
        },
        "id": "WrZ1ZPAQuyQq",
        "outputId": "6f275225-64a8-4784-f0de-0b9882741f25"
      },
      "source": [
        "# value_counts()는 각 value가 몇 개 있는지를 반환한다.(값 별로 개수세기)\n",
        "# ✍️ 내림차순으로 정렬된 것을 확인할 수 있음!\n",
        "# [:10]은 0부터 9까지 10개를 의미한다.\n",
        "item_count = chipo['item_name'].value_counts()[:10]\n",
        "print(item_count)"
      ],
      "execution_count": 11,
      "outputs": [
        {
          "output_type": "stream",
          "name": "stdout",
          "text": [
            "Chicken Bowl                    726\n",
            "Chicken Burrito                 553\n",
            "Chips and Guacamole             479\n",
            "Steak Burrito                   368\n",
            "Canned Soft Drink               301\n",
            "Steak Bowl                      211\n",
            "Chips                           211\n",
            "Bottled Water                   162\n",
            "Chicken Soft Tacos              115\n",
            "Chips and Fresh Tomato Salsa    110\n",
            "Name: item_name, dtype: int64\n"
          ]
        }
      ]
    },
    {
      "cell_type": "code",
      "metadata": {
        "colab": {
          "base_uri": "https://localhost:8080/"
        },
        "id": "F_N836lk271D",
        "outputId": "f73ef9e6-86f3-49d7-c13f-35ce1640b177"
      },
      "source": [
        "# [기초] enumerate(iterable 객체)는 인덱스와 원소를 반복적으로 열거하면서 반환한다.\n",
        "# iterable 객체는 반복가능한 객체로써 리스트, 튜플, 시리즈 등이다.\n",
        "for i, letter in enumerate(['A', 'B', 'C']):\n",
        "  print(i, letter)"
      ],
      "execution_count": 12,
      "outputs": [
        {
          "output_type": "stream",
          "name": "stdout",
          "text": [
            "0 A\n",
            "1 B\n",
            "2 C\n"
          ]
        }
      ]
    },
    {
      "cell_type": "code",
      "metadata": {
        "colab": {
          "base_uri": "https://localhost:8080/"
        },
        "id": "dLY24t7W3QTP",
        "outputId": "66e35af0-e023-4172-c9e3-1ed0162af70b"
      },
      "source": [
        "# [기초] start=1 옵션을 주면 인덱스가 1부터 시작한다.\n",
        "for i, letter in enumerate(['A', 'B', 'C'], start=1):\n",
        "  print(i, letter)"
      ],
      "execution_count": 13,
      "outputs": [
        {
          "output_type": "stream",
          "name": "stdout",
          "text": [
            "1 A\n",
            "2 B\n",
            "3 C\n"
          ]
        }
      ]
    },
    {
      "cell_type": "code",
      "metadata": {
        "colab": {
          "base_uri": "https://localhost:8080/"
        },
        "id": "KKQsislz3fxV",
        "outputId": "bdf221bf-2ce9-4dfe-8ff7-9b5de39d76ed"
      },
      "source": [
        "# 가장 많이 주문한 아이템 Top 10 구하기\n",
        "# item_count.iteritems()는 item_count를 반복가능한 iterable객체로 변환한다.\n",
        "# ✍️ iteritems -> iter + items\n",
        "# ✍️ enumerate -> start=1 을 1로 생략 \n",
        "for idx, (val, cnt) in enumerate(item_count.iteritems(), 1):\n",
        "  print(\"Top\", idx, \":\", val, cnt)"
      ],
      "execution_count": 14,
      "outputs": [
        {
          "output_type": "stream",
          "name": "stdout",
          "text": [
            "Top 1 : Chicken Bowl 726\n",
            "Top 2 : Chicken Burrito 553\n",
            "Top 3 : Chips and Guacamole 479\n",
            "Top 4 : Steak Burrito 368\n",
            "Top 5 : Canned Soft Drink 301\n",
            "Top 6 : Steak Bowl 211\n",
            "Top 7 : Chips 211\n",
            "Top 8 : Bottled Water 162\n",
            "Top 9 : Chicken Soft Tacos 115\n",
            "Top 10 : Chips and Fresh Tomato Salsa 110\n"
          ]
        }
      ]
    },
    {
      "cell_type": "markdown",
      "metadata": {
        "id": "Q7JGYP44ukKT"
      },
      "source": [
        "**[2.2] 아이템별 주문 횟수 구하기**\n",
        "- groupby() 함수"
      ]
    },
    {
      "cell_type": "code",
      "metadata": {
        "colab": {
          "base_uri": "https://localhost:8080/"
        },
        "id": "aT_lhpXT34zK",
        "outputId": "e2133725-8fc7-4204-8132-cce9e2cde67a"
      },
      "source": [
        "# chipo.groupby('item_name')에 의해 아이템별로 그룹핑이 된 상태에서\n",
        "# ['order_id'].count()에 의해 주문번호를 카운트한다.\n",
        "order_count = chipo.groupby('item_name')['order_id'].count()\n",
        "\n",
        "# 0번째에서 9번째까지 10개를 출력한다.\n",
        "order_count[:10]"
      ],
      "execution_count": 15,
      "outputs": [
        {
          "output_type": "execute_result",
          "data": {
            "text/plain": [
              "item_name\n",
              "6 Pack Soft Drink         54\n",
              "Barbacoa Bowl             66\n",
              "Barbacoa Burrito          91\n",
              "Barbacoa Crispy Tacos     11\n",
              "Barbacoa Salad Bowl       10\n",
              "Barbacoa Soft Tacos       25\n",
              "Bottled Water            162\n",
              "Bowl                       2\n",
              "Burrito                    6\n",
              "Canned Soda              104\n",
              "Name: order_id, dtype: int64"
            ]
          },
          "metadata": {},
          "execution_count": 15
        }
      ]
    },
    {
      "cell_type": "code",
      "metadata": {
        "colab": {
          "base_uri": "https://localhost:8080/",
          "height": 478
        },
        "id": "KYjJXQut4qv2",
        "outputId": "da0a2e33-c936-4183-c155-e1b7b32c045d"
      },
      "source": [
        "# chipo 데이터프레임에서 순서대로 10개의 행을 보여준다.\n",
        "chipo.head(10)"
      ],
      "execution_count": 16,
      "outputs": [
        {
          "output_type": "execute_result",
          "data": {
            "text/html": [
              "<div>\n",
              "<style scoped>\n",
              "    .dataframe tbody tr th:only-of-type {\n",
              "        vertical-align: middle;\n",
              "    }\n",
              "\n",
              "    .dataframe tbody tr th {\n",
              "        vertical-align: top;\n",
              "    }\n",
              "\n",
              "    .dataframe thead th {\n",
              "        text-align: right;\n",
              "    }\n",
              "</style>\n",
              "<table border=\"1\" class=\"dataframe\">\n",
              "  <thead>\n",
              "    <tr style=\"text-align: right;\">\n",
              "      <th></th>\n",
              "      <th>order_id</th>\n",
              "      <th>quantity</th>\n",
              "      <th>item_name</th>\n",
              "      <th>choice_description</th>\n",
              "      <th>item_price</th>\n",
              "    </tr>\n",
              "  </thead>\n",
              "  <tbody>\n",
              "    <tr>\n",
              "      <th>0</th>\n",
              "      <td>1</td>\n",
              "      <td>1</td>\n",
              "      <td>Chips and Fresh Tomato Salsa</td>\n",
              "      <td>NaN</td>\n",
              "      <td>$2.39</td>\n",
              "    </tr>\n",
              "    <tr>\n",
              "      <th>1</th>\n",
              "      <td>1</td>\n",
              "      <td>1</td>\n",
              "      <td>Izze</td>\n",
              "      <td>[Clementine]</td>\n",
              "      <td>$3.39</td>\n",
              "    </tr>\n",
              "    <tr>\n",
              "      <th>2</th>\n",
              "      <td>1</td>\n",
              "      <td>1</td>\n",
              "      <td>Nantucket Nectar</td>\n",
              "      <td>[Apple]</td>\n",
              "      <td>$3.39</td>\n",
              "    </tr>\n",
              "    <tr>\n",
              "      <th>3</th>\n",
              "      <td>1</td>\n",
              "      <td>1</td>\n",
              "      <td>Chips and Tomatillo-Green Chili Salsa</td>\n",
              "      <td>NaN</td>\n",
              "      <td>$2.39</td>\n",
              "    </tr>\n",
              "    <tr>\n",
              "      <th>4</th>\n",
              "      <td>2</td>\n",
              "      <td>2</td>\n",
              "      <td>Chicken Bowl</td>\n",
              "      <td>[Tomatillo-Red Chili Salsa (Hot), [Black Beans...</td>\n",
              "      <td>$16.98</td>\n",
              "    </tr>\n",
              "    <tr>\n",
              "      <th>5</th>\n",
              "      <td>3</td>\n",
              "      <td>1</td>\n",
              "      <td>Chicken Bowl</td>\n",
              "      <td>[Fresh Tomato Salsa (Mild), [Rice, Cheese, Sou...</td>\n",
              "      <td>$10.98</td>\n",
              "    </tr>\n",
              "    <tr>\n",
              "      <th>6</th>\n",
              "      <td>3</td>\n",
              "      <td>1</td>\n",
              "      <td>Side of Chips</td>\n",
              "      <td>NaN</td>\n",
              "      <td>$1.69</td>\n",
              "    </tr>\n",
              "    <tr>\n",
              "      <th>7</th>\n",
              "      <td>4</td>\n",
              "      <td>1</td>\n",
              "      <td>Steak Burrito</td>\n",
              "      <td>[Tomatillo Red Chili Salsa, [Fajita Vegetables...</td>\n",
              "      <td>$11.75</td>\n",
              "    </tr>\n",
              "    <tr>\n",
              "      <th>8</th>\n",
              "      <td>4</td>\n",
              "      <td>1</td>\n",
              "      <td>Steak Soft Tacos</td>\n",
              "      <td>[Tomatillo Green Chili Salsa, [Pinto Beans, Ch...</td>\n",
              "      <td>$9.25</td>\n",
              "    </tr>\n",
              "    <tr>\n",
              "      <th>9</th>\n",
              "      <td>5</td>\n",
              "      <td>1</td>\n",
              "      <td>Steak Burrito</td>\n",
              "      <td>[Fresh Tomato Salsa, [Rice, Black Beans, Pinto...</td>\n",
              "      <td>$9.25</td>\n",
              "    </tr>\n",
              "  </tbody>\n",
              "</table>\n",
              "</div>"
            ],
            "text/plain": [
              "  order_id  ...  item_price\n",
              "0        1  ...      $2.39 \n",
              "1        1  ...      $3.39 \n",
              "2        1  ...      $3.39 \n",
              "3        1  ...      $2.39 \n",
              "4        2  ...     $16.98 \n",
              "5        3  ...     $10.98 \n",
              "6        3  ...      $1.69 \n",
              "7        4  ...     $11.75 \n",
              "8        4  ...      $9.25 \n",
              "9        5  ...      $9.25 \n",
              "\n",
              "[10 rows x 5 columns]"
            ]
          },
          "metadata": {},
          "execution_count": 16
        }
      ]
    },
    {
      "cell_type": "markdown",
      "metadata": {
        "id": "l7Phds57upW5"
      },
      "source": [
        "**[2.3] 아이템별 주문 총수량 구하기**\n",
        "- tolist()와 넘파이의 arange() 함수"
      ]
    },
    {
      "cell_type": "code",
      "metadata": {
        "colab": {
          "base_uri": "https://localhost:8080/"
        },
        "id": "gyDpjjca5oxF",
        "outputId": "37f1aea0-1441-4113-90e5-5018f8e9521e"
      },
      "source": [
        "# chipo.groupby('item_name')에 의해 아이템별로 그룹핑이 된 상태에서\n",
        "#['quantity'].sum()에 의해 주문수량을 합한다.\n",
        "item_quantity = chipo.groupby('item_name')['quantity'].sum()\n",
        "\n",
        "# 0번째에서 9번째까지 10개를 출력한다.\n",
        "item_quantity[:10]"
      ],
      "execution_count": 17,
      "outputs": [
        {
          "output_type": "execute_result",
          "data": {
            "text/plain": [
              "item_name\n",
              "6 Pack Soft Drink         55\n",
              "Barbacoa Bowl             66\n",
              "Barbacoa Burrito          91\n",
              "Barbacoa Crispy Tacos     12\n",
              "Barbacoa Salad Bowl       10\n",
              "Barbacoa Soft Tacos       25\n",
              "Bottled Water            211\n",
              "Bowl                       4\n",
              "Burrito                    6\n",
              "Canned Soda              126\n",
              "Name: quantity, dtype: int64"
            ]
          },
          "metadata": {},
          "execution_count": 17
        }
      ]
    },
    {
      "cell_type": "markdown",
      "metadata": {
        "id": "feM3n9yz6Hik"
      },
      "source": [
        "**[2.4] 시각화로 분석 결과 살펴보기**\n",
        "- 아이템별 주문 총수량을 막대그래프로 시각화한다."
      ]
    },
    {
      "cell_type": "code",
      "metadata": {
        "colab": {
          "base_uri": "https://localhost:8080/",
          "height": 281
        },
        "id": "fE7XjS6U6OTG",
        "outputId": "f23d1f14-7382-44d7-b02f-9dbb14822a05"
      },
      "source": [
        "# 주피터노트북에서 그래프를 출력가능하도록 선언\n",
        "%matplotlib inline\n",
        "import numpy as np\n",
        "import matplotlib.pyplot as plt\n",
        "\n",
        "# 아이템별 총수량(item_quantity)의 index를 리스트로 변환한다.\n",
        "# index는 item_name이다. (위의 2.3 결과 확인)\n",
        "item_name_list = item_quantity.index.tolist()\n",
        "\n",
        "# x축 지정: 아이템을 숫자로 표시\n",
        "# len(item_name_list)은 item_name_list의 길이를 구한다.\n",
        "# print(len(item_name_list)) # --> 50\n",
        "# np.arange(50)은 0에서 49까지의 배열 array[0:50]을 생성한다.\n",
        "x_pos = np.arange(len(item_name_list))\n",
        "\n",
        "# y축 지정: 총수량 값\n",
        "# 아이템 별 총 수량(item_quantity)의 values를 리스트로 변환한다.\n",
        "# values는 총수량 값이다. (위의 2.3 결과 확인)\n",
        "order_count = item_quantity.values.tolist()\n",
        "\n",
        "# plt.bar(x축 리스트, y축 리스트, align=위치)으로 막대그래프 객체를 생성한다.\n",
        "plt.bar(x_pos, order_count, align=\"center\")\n",
        "\n",
        "# y축 레이블을 지정한다.\n",
        "plt.ylabel('ordered_quantity_sum')\n",
        "# 그래프 타이틀을 지정한다.\n",
        "plt.title('Distribution of all ordered item')\n",
        "# 그래프를 출력한다.\n",
        "plt.show()"
      ],
      "execution_count": 18,
      "outputs": [
        {
          "output_type": "display_data",
          "data": {
            "image/png": "[encoded data removed]",
            "text/plain": [
              "<Figure size 432x288 with 1 Axes>"
            ]
          },
          "metadata": {
            "needs_background": "light"
          }
        }
      ]
    },
    {
      "cell_type": "markdown",
      "metadata": {
        "id": "-J7mCxA7_KXY"
      },
      "source": [
        "## <Step3. 데이터 전처리> 전처리 함수 사용하기"
      ]
    },
    {
      "cell_type": "markdown",
      "metadata": {
        "id": "ngTDqxf4_hpn"
      },
      "source": [
        "**[3.1] apply()와 lambda 함수를 이용한 데이터 전처리하기**\n",
        "\n",
        "- item_price가 $2.39와 같이 문자열 타입(object)이기 때문에 기초 통계량을 구할 수 없다.\n",
        "\n",
        "- 수치 데이터로 사용하기 위해서는 $ 기호를 제거해주는 전처리 작업이 필요하다."
      ]
    },
    {
      "cell_type": "code",
      "metadata": {
        "colab": {
          "base_uri": "https://localhost:8080/"
        },
        "id": "cjwFtmg5_0sK",
        "outputId": "cb52642a-4034-41f7-a4f6-6c1d7aa0fe4e"
      },
      "source": [
        "chipo['item_price'].head()"
      ],
      "execution_count": 19,
      "outputs": [
        {
          "output_type": "execute_result",
          "data": {
            "text/plain": [
              "0     $2.39 \n",
              "1     $3.39 \n",
              "2     $3.39 \n",
              "3     $2.39 \n",
              "4    $16.98 \n",
              "Name: item_price, dtype: object"
            ]
          },
          "metadata": {},
          "execution_count": 19
        }
      ]
    },
    {
      "cell_type": "code",
      "metadata": {
        "colab": {
          "base_uri": "https://localhost:8080/"
        },
        "id": "dwXQCrbjACae",
        "outputId": "8be6a669-df68-4397-d106-a75baaa55a08"
      },
      "source": [
        "# [기초] (lambda x: x+1)은 매개변수 x로 받은 값에 +1을 해주는 람다함수이다.\n",
        "(lambda x : x+1)(3)"
      ],
      "execution_count": 20,
      "outputs": [
        {
          "output_type": "execute_result",
          "data": {
            "text/plain": [
              "4"
            ]
          },
          "metadata": {},
          "execution_count": 20
        }
      ]
    },
    {
      "cell_type": "code",
      "metadata": {
        "colab": {
          "base_uri": "https://localhost:8080/"
        },
        "id": "ZYzy1tRvAQAR",
        "outputId": "6c6d7135-662c-4d77-a8ea-ab412445a15c"
      },
      "source": [
        "# [기초] 매개변수 x로 받은 문자열(문자배열)에서 0번째 ($)를 제외한 나머지를 실수로 변환한다.\n",
        "(lambda x:float(x[1:]))('$2.39')"
      ],
      "execution_count": 21,
      "outputs": [
        {
          "output_type": "execute_result",
          "data": {
            "text/plain": [
              "2.39"
            ]
          },
          "metadata": {},
          "execution_count": 21
        }
      ]
    },
    {
      "cell_type": "code",
      "metadata": {
        "colab": {
          "base_uri": "https://localhost:8080/"
        },
        "id": "Cp24lIk4Abhw",
        "outputId": "68fce61c-e664-454b-b462-971da12ba868"
      },
      "source": [
        "# apply()는 column 단위 데이터에 함수를 적용하여 전처리를 한다.\n",
        "chipo['item_price'] = chipo['item_price'].apply(lambda x:float(x[1:]))\n",
        "chipo['item_price'].head()"
      ],
      "execution_count": 22,
      "outputs": [
        {
          "output_type": "execute_result",
          "data": {
            "text/plain": [
              "0     2.39\n",
              "1     3.39\n",
              "2     3.39\n",
              "3     2.39\n",
              "4    16.98\n",
              "Name: item_price, dtype: float64"
            ]
          },
          "metadata": {},
          "execution_count": 22
        }
      ]
    },
    {
      "cell_type": "code",
      "metadata": {
        "colab": {
          "base_uri": "https://localhost:8080/",
          "height": 297
        },
        "id": "8iemhDnyDwJj",
        "outputId": "2e5c5f4c-9d17-44c4-b479-b09bf6d02c2a"
      },
      "source": [
        "# chipo 데이터프레임에서 수치형 피처들의 기초통계량을 확인한다.\n",
        "chipo.describe()"
      ],
      "execution_count": 23,
      "outputs": [
        {
          "output_type": "execute_result",
          "data": {
            "text/html": [
              "<div>\n",
              "<style scoped>\n",
              "    .dataframe tbody tr th:only-of-type {\n",
              "        vertical-align: middle;\n",
              "    }\n",
              "\n",
              "    .dataframe tbody tr th {\n",
              "        vertical-align: top;\n",
              "    }\n",
              "\n",
              "    .dataframe thead th {\n",
              "        text-align: right;\n",
              "    }\n",
              "</style>\n",
              "<table border=\"1\" class=\"dataframe\">\n",
              "  <thead>\n",
              "    <tr style=\"text-align: right;\">\n",
              "      <th></th>\n",
              "      <th>quantity</th>\n",
              "      <th>item_price</th>\n",
              "    </tr>\n",
              "  </thead>\n",
              "  <tbody>\n",
              "    <tr>\n",
              "      <th>count</th>\n",
              "      <td>4622.000000</td>\n",
              "      <td>4622.000000</td>\n",
              "    </tr>\n",
              "    <tr>\n",
              "      <th>mean</th>\n",
              "      <td>1.075725</td>\n",
              "      <td>7.464336</td>\n",
              "    </tr>\n",
              "    <tr>\n",
              "      <th>std</th>\n",
              "      <td>0.410186</td>\n",
              "      <td>4.245557</td>\n",
              "    </tr>\n",
              "    <tr>\n",
              "      <th>min</th>\n",
              "      <td>1.000000</td>\n",
              "      <td>1.090000</td>\n",
              "    </tr>\n",
              "    <tr>\n",
              "      <th>25%</th>\n",
              "      <td>1.000000</td>\n",
              "      <td>3.390000</td>\n",
              "    </tr>\n",
              "    <tr>\n",
              "      <th>50%</th>\n",
              "      <td>1.000000</td>\n",
              "      <td>8.750000</td>\n",
              "    </tr>\n",
              "    <tr>\n",
              "      <th>75%</th>\n",
              "      <td>1.000000</td>\n",
              "      <td>9.250000</td>\n",
              "    </tr>\n",
              "    <tr>\n",
              "      <th>max</th>\n",
              "      <td>15.000000</td>\n",
              "      <td>44.250000</td>\n",
              "    </tr>\n",
              "  </tbody>\n",
              "</table>\n",
              "</div>"
            ],
            "text/plain": [
              "          quantity   item_price\n",
              "count  4622.000000  4622.000000\n",
              "mean      1.075725     7.464336\n",
              "std       0.410186     4.245557\n",
              "min       1.000000     1.090000\n",
              "25%       1.000000     3.390000\n",
              "50%       1.000000     8.750000\n",
              "75%       1.000000     9.250000\n",
              "max      15.000000    44.250000"
            ]
          },
          "metadata": {},
          "execution_count": 23
        }
      ]
    },
    {
      "cell_type": "markdown",
      "metadata": {
        "id": "p9e0uebG_-9t"
      },
      "source": [
        "**[4.1] 주문 당 평균 판매금액 출력하기**"
      ]
    },
    {
      "cell_type": "code",
      "metadata": {
        "id": "vVmuEJ2vD4w_",
        "colab": {
          "base_uri": "https://localhost:8080/",
          "height": 478
        },
        "outputId": "bfab7833-062d-447c-de0d-be95c79f65f9"
      },
      "source": [
        "# chipo 데이터프레임에서 상위 10개의 행을 보여준다.\n",
        "chipo.head(10)"
      ],
      "execution_count": 24,
      "outputs": [
        {
          "output_type": "execute_result",
          "data": {
            "text/html": [
              "<div>\n",
              "<style scoped>\n",
              "    .dataframe tbody tr th:only-of-type {\n",
              "        vertical-align: middle;\n",
              "    }\n",
              "\n",
              "    .dataframe tbody tr th {\n",
              "        vertical-align: top;\n",
              "    }\n",
              "\n",
              "    .dataframe thead th {\n",
              "        text-align: right;\n",
              "    }\n",
              "</style>\n",
              "<table border=\"1\" class=\"dataframe\">\n",
              "  <thead>\n",
              "    <tr style=\"text-align: right;\">\n",
              "      <th></th>\n",
              "      <th>order_id</th>\n",
              "      <th>quantity</th>\n",
              "      <th>item_name</th>\n",
              "      <th>choice_description</th>\n",
              "      <th>item_price</th>\n",
              "    </tr>\n",
              "  </thead>\n",
              "  <tbody>\n",
              "    <tr>\n",
              "      <th>0</th>\n",
              "      <td>1</td>\n",
              "      <td>1</td>\n",
              "      <td>Chips and Fresh Tomato Salsa</td>\n",
              "      <td>NaN</td>\n",
              "      <td>2.39</td>\n",
              "    </tr>\n",
              "    <tr>\n",
              "      <th>1</th>\n",
              "      <td>1</td>\n",
              "      <td>1</td>\n",
              "      <td>Izze</td>\n",
              "      <td>[Clementine]</td>\n",
              "      <td>3.39</td>\n",
              "    </tr>\n",
              "    <tr>\n",
              "      <th>2</th>\n",
              "      <td>1</td>\n",
              "      <td>1</td>\n",
              "      <td>Nantucket Nectar</td>\n",
              "      <td>[Apple]</td>\n",
              "      <td>3.39</td>\n",
              "    </tr>\n",
              "    <tr>\n",
              "      <th>3</th>\n",
              "      <td>1</td>\n",
              "      <td>1</td>\n",
              "      <td>Chips and Tomatillo-Green Chili Salsa</td>\n",
              "      <td>NaN</td>\n",
              "      <td>2.39</td>\n",
              "    </tr>\n",
              "    <tr>\n",
              "      <th>4</th>\n",
              "      <td>2</td>\n",
              "      <td>2</td>\n",
              "      <td>Chicken Bowl</td>\n",
              "      <td>[Tomatillo-Red Chili Salsa (Hot), [Black Beans...</td>\n",
              "      <td>16.98</td>\n",
              "    </tr>\n",
              "    <tr>\n",
              "      <th>5</th>\n",
              "      <td>3</td>\n",
              "      <td>1</td>\n",
              "      <td>Chicken Bowl</td>\n",
              "      <td>[Fresh Tomato Salsa (Mild), [Rice, Cheese, Sou...</td>\n",
              "      <td>10.98</td>\n",
              "    </tr>\n",
              "    <tr>\n",
              "      <th>6</th>\n",
              "      <td>3</td>\n",
              "      <td>1</td>\n",
              "      <td>Side of Chips</td>\n",
              "      <td>NaN</td>\n",
              "      <td>1.69</td>\n",
              "    </tr>\n",
              "    <tr>\n",
              "      <th>7</th>\n",
              "      <td>4</td>\n",
              "      <td>1</td>\n",
              "      <td>Steak Burrito</td>\n",
              "      <td>[Tomatillo Red Chili Salsa, [Fajita Vegetables...</td>\n",
              "      <td>11.75</td>\n",
              "    </tr>\n",
              "    <tr>\n",
              "      <th>8</th>\n",
              "      <td>4</td>\n",
              "      <td>1</td>\n",
              "      <td>Steak Soft Tacos</td>\n",
              "      <td>[Tomatillo Green Chili Salsa, [Pinto Beans, Ch...</td>\n",
              "      <td>9.25</td>\n",
              "    </tr>\n",
              "    <tr>\n",
              "      <th>9</th>\n",
              "      <td>5</td>\n",
              "      <td>1</td>\n",
              "      <td>Steak Burrito</td>\n",
              "      <td>[Fresh Tomato Salsa, [Rice, Black Beans, Pinto...</td>\n",
              "      <td>9.25</td>\n",
              "    </tr>\n",
              "  </tbody>\n",
              "</table>\n",
              "</div>"
            ],
            "text/plain": [
              "  order_id  ...  item_price\n",
              "0        1  ...        2.39\n",
              "1        1  ...        3.39\n",
              "2        1  ...        3.39\n",
              "3        1  ...        2.39\n",
              "4        2  ...       16.98\n",
              "5        3  ...       10.98\n",
              "6        3  ...        1.69\n",
              "7        4  ...       11.75\n",
              "8        4  ...        9.25\n",
              "9        5  ...        9.25\n",
              "\n",
              "[10 rows x 5 columns]"
            ]
          },
          "metadata": {},
          "execution_count": 24
        }
      ]
    },
    {
      "cell_type": "code",
      "metadata": {
        "colab": {
          "base_uri": "https://localhost:8080/"
        },
        "id": "GFk03gm_AJX6",
        "outputId": "24c15e1b-95f0-4d5d-ee9a-cf2b9446f821"
      },
      "source": [
        "# 주문당 판매금액 출력하기\n",
        "# 주문번호('order_id')로 그룹핑한 후에 가격('item_price')에 대한 sum()dmf rngksek.\n",
        "chipo.groupby('order_id')['item_price'].sum()"
      ],
      "execution_count": 25,
      "outputs": [
        {
          "output_type": "execute_result",
          "data": {
            "text/plain": [
              "order_id\n",
              "1       11.56\n",
              "10      13.20\n",
              "100     10.08\n",
              "1000    20.50\n",
              "1001    10.08\n",
              "        ...  \n",
              "995     24.95\n",
              "996     43.00\n",
              "997     22.50\n",
              "998     10.88\n",
              "999     29.25\n",
              "Name: item_price, Length: 1834, dtype: float64"
            ]
          },
          "metadata": {},
          "execution_count": 25
        }
      ]
    },
    {
      "cell_type": "code",
      "metadata": {
        "colab": {
          "base_uri": "https://localhost:8080/"
        },
        "id": "iVBDHhXVAXen",
        "outputId": "f7469a35-e31a-4cd1-bf6b-5a23d7effd72"
      },
      "source": [
        "# 주문당 평균 판매금액 출력한다.\n",
        "# 위의 '주문당 판매금액'을 구한 후에 mean()으로 평균을 구한다\n",
        "chipo.groupby('order_id')['item_price'].sum().mean()"
      ],
      "execution_count": 26,
      "outputs": [
        {
          "output_type": "execute_result",
          "data": {
            "text/plain": [
              "18.811428571428717"
            ]
          },
          "metadata": {},
          "execution_count": 26
        }
      ]
    },
    {
      "cell_type": "code",
      "metadata": {
        "colab": {
          "base_uri": "https://localhost:8080/"
        },
        "id": "EoUyAOp4A_3E",
        "outputId": "f1283c58-ad7d-4003-e0d2-cfa5d77fb868"
      },
      "source": [
        "# 주문 당 판매금액의 기초 통계량을 구한다.\n",
        "chipo.groupby('order_id')['item_price'].sum().describe()[:10]"
      ],
      "execution_count": 27,
      "outputs": [
        {
          "output_type": "execute_result",
          "data": {
            "text/plain": [
              "count    1834.000000\n",
              "mean       18.811429\n",
              "std        11.652512\n",
              "min        10.080000\n",
              "25%        12.572500\n",
              "50%        16.200000\n",
              "75%        21.960000\n",
              "max       205.250000\n",
              "Name: item_price, dtype: float64"
            ]
          },
          "metadata": {},
          "execution_count": 27
        }
      ]
    },
    {
      "cell_type": "markdown",
      "metadata": {
        "id": "eiBt6dKABLNz"
      },
      "source": [
        "**[4.2] 한 주문에 100달러 이상 사용한 주문 번호(id) 출력하기**"
      ]
    },
    {
      "cell_type": "code",
      "metadata": {
        "colab": {
          "base_uri": "https://localhost:8080/"
        },
        "id": "K_RVVCROBIW3",
        "outputId": "df1668a7-570b-4e67-e5e0-0c10bc56b167"
      },
      "source": [
        "# 주문번호('order_id')을 그룹핑한 후에 sum()을 하면\n",
        "# 수치형 데이터 (quantity, item_price) 에 대해 주문번호 당 sum을 하게 된다.\n",
        "chipo_orderid_group = chipo.groupby('order_id').sum()\n",
        "print(chipo_orderid_group)"
      ],
      "execution_count": 28,
      "outputs": [
        {
          "output_type": "stream",
          "name": "stdout",
          "text": [
            "          quantity  item_price\n",
            "order_id                      \n",
            "1                4       11.56\n",
            "10               2       13.20\n",
            "100              2       10.08\n",
            "1000             2       20.50\n",
            "1001             2       10.08\n",
            "...            ...         ...\n",
            "995              3       24.95\n",
            "996              4       43.00\n",
            "997              2       22.50\n",
            "998              2       10.88\n",
            "999              5       29.25\n",
            "\n",
            "[1834 rows x 2 columns]\n"
          ]
        }
      ]
    },
    {
      "cell_type": "code",
      "metadata": {
        "colab": {
          "base_uri": "https://localhost:8080/"
        },
        "id": "u4jEbFZVBjUU",
        "outputId": "764aab83-6acc-44c1-90e8-f2366c542b19"
      },
      "source": [
        "# 주문번호 당 sum을 한 chipo_orderid_group 에서\n",
        "# item_price가 100 이상인 조건을 준다.\n",
        "results = chipo_orderid_group[chipo_orderid_group.item_price >= 100]\n",
        "print(results[:10])"
      ],
      "execution_count": 29,
      "outputs": [
        {
          "output_type": "stream",
          "name": "stdout",
          "text": [
            "          quantity  item_price\n",
            "order_id                      \n",
            "1443            35      160.74\n",
            "1483            14      139.00\n",
            "1786            20      114.30\n",
            "205             12      109.90\n",
            "491             10      102.00\n",
            "511             17      104.59\n",
            "691             11      118.25\n",
            "926             23      205.25\n"
          ]
        }
      ]
    },
    {
      "cell_type": "markdown",
      "metadata": {
        "id": "YXPo4XuXBzix"
      },
      "source": [
        "**[4.3] 각 아이템의 가격 구하기**"
      ]
    },
    {
      "cell_type": "code",
      "metadata": {
        "colab": {
          "base_uri": "https://localhost:8080/",
          "height": 390
        },
        "id": "YTx4w_iqBwww",
        "outputId": "63054bc6-4853-460a-d7b9-fd49531df541"
      },
      "source": [
        "# 1) chipo[chipo.quatity == 1]으로 동일 아이템을 1개만 구매한 주문을 선별한다.\n",
        "chipo_one_item = chipo[chipo.quantity == 1]\n",
        "\n",
        "# 2) item_name을 기준으로 groupby()을 수행한 뒤, min()으로 각 그룹별 최저가를 구한다.\n",
        "price_per_item = chipo_one_item.groupby('item_name').min()\n",
        "\n",
        "# 3) sort_value()을 이용하여 item_price를 기준으로 정렬한다.\n",
        "# assending = False 은 내림차순 정렬을 의미하며, [:10]으로 10개만 출력한다.\n",
        "price_per_item.sort_values(by = \"item_price\", ascending = False)[:10]"
      ],
      "execution_count": 31,
      "outputs": [
        {
          "output_type": "execute_result",
          "data": {
            "text/html": [
              "<div>\n",
              "<style scoped>\n",
              "    .dataframe tbody tr th:only-of-type {\n",
              "        vertical-align: middle;\n",
              "    }\n",
              "\n",
              "    .dataframe tbody tr th {\n",
              "        vertical-align: top;\n",
              "    }\n",
              "\n",
              "    .dataframe thead th {\n",
              "        text-align: right;\n",
              "    }\n",
              "</style>\n",
              "<table border=\"1\" class=\"dataframe\">\n",
              "  <thead>\n",
              "    <tr style=\"text-align: right;\">\n",
              "      <th></th>\n",
              "      <th>order_id</th>\n",
              "      <th>quantity</th>\n",
              "      <th>choice_description</th>\n",
              "      <th>item_price</th>\n",
              "    </tr>\n",
              "    <tr>\n",
              "      <th>item_name</th>\n",
              "      <th></th>\n",
              "      <th></th>\n",
              "      <th></th>\n",
              "      <th></th>\n",
              "    </tr>\n",
              "  </thead>\n",
              "  <tbody>\n",
              "    <tr>\n",
              "      <th>Steak Salad Bowl</th>\n",
              "      <td>1032</td>\n",
              "      <td>1</td>\n",
              "      <td>[Fresh Tomato Salsa, Lettuce]</td>\n",
              "      <td>9.39</td>\n",
              "    </tr>\n",
              "    <tr>\n",
              "      <th>Barbacoa Salad Bowl</th>\n",
              "      <td>1283</td>\n",
              "      <td>1</td>\n",
              "      <td>[Fresh Tomato Salsa, Guacamole]</td>\n",
              "      <td>9.39</td>\n",
              "    </tr>\n",
              "    <tr>\n",
              "      <th>Carnitas Salad Bowl</th>\n",
              "      <td>1035</td>\n",
              "      <td>1</td>\n",
              "      <td>[Fresh Tomato Salsa, [Rice, Black Beans, Chees...</td>\n",
              "      <td>9.39</td>\n",
              "    </tr>\n",
              "    <tr>\n",
              "      <th>Carnitas Soft Tacos</th>\n",
              "      <td>1011</td>\n",
              "      <td>1</td>\n",
              "      <td>[Fresh Tomato Salsa (Mild), [Black Beans, Rice...</td>\n",
              "      <td>8.99</td>\n",
              "    </tr>\n",
              "    <tr>\n",
              "      <th>Carnitas Crispy Tacos</th>\n",
              "      <td>1774</td>\n",
              "      <td>1</td>\n",
              "      <td>[Fresh Tomato Salsa, [Fajita Vegetables, Rice,...</td>\n",
              "      <td>8.99</td>\n",
              "    </tr>\n",
              "    <tr>\n",
              "      <th>Steak Soft Tacos</th>\n",
              "      <td>1054</td>\n",
              "      <td>1</td>\n",
              "      <td>[Fresh Tomato Salsa (Mild), [Cheese, Sour Cream]]</td>\n",
              "      <td>8.99</td>\n",
              "    </tr>\n",
              "    <tr>\n",
              "      <th>Carnitas Salad</th>\n",
              "      <td>1500</td>\n",
              "      <td>1</td>\n",
              "      <td>[[Fresh Tomato Salsa (Mild), Roasted Chili Cor...</td>\n",
              "      <td>8.99</td>\n",
              "    </tr>\n",
              "    <tr>\n",
              "      <th>Carnitas Bowl</th>\n",
              "      <td>1007</td>\n",
              "      <td>1</td>\n",
              "      <td>[Fresh Tomato (Mild), [Guacamole, Lettuce, Ric...</td>\n",
              "      <td>8.99</td>\n",
              "    </tr>\n",
              "    <tr>\n",
              "      <th>Barbacoa Soft Tacos</th>\n",
              "      <td>1103</td>\n",
              "      <td>1</td>\n",
              "      <td>[Fresh Tomato Salsa, [Black Beans, Cheese, Let...</td>\n",
              "      <td>8.99</td>\n",
              "    </tr>\n",
              "    <tr>\n",
              "      <th>Barbacoa Crispy Tacos</th>\n",
              "      <td>110</td>\n",
              "      <td>1</td>\n",
              "      <td>[Fresh Tomato Salsa, Guacamole]</td>\n",
              "      <td>8.99</td>\n",
              "    </tr>\n",
              "  </tbody>\n",
              "</table>\n",
              "</div>"
            ],
            "text/plain": [
              "                      order_id  ...  item_price\n",
              "item_name                       ...            \n",
              "Steak Salad Bowl          1032  ...        9.39\n",
              "Barbacoa Salad Bowl       1283  ...        9.39\n",
              "Carnitas Salad Bowl       1035  ...        9.39\n",
              "Carnitas Soft Tacos       1011  ...        8.99\n",
              "Carnitas Crispy Tacos     1774  ...        8.99\n",
              "Steak Soft Tacos          1054  ...        8.99\n",
              "Carnitas Salad            1500  ...        8.99\n",
              "Carnitas Bowl             1007  ...        8.99\n",
              "Barbacoa Soft Tacos       1103  ...        8.99\n",
              "Barbacoa Crispy Tacos      110  ...        8.99\n",
              "\n",
              "[10 rows x 4 columns]"
            ]
          },
          "metadata": {},
          "execution_count": 31
        }
      ]
    },
    {
      "cell_type": "code",
      "metadata": {
        "colab": {
          "base_uri": "https://localhost:8080/",
          "height": 281
        },
        "id": "K_YP5FpWCrVX",
        "outputId": "dd5747b0-74a2-43fc-c512-9411793a1d50"
      },
      "source": [
        "# 아이템 가격 분포 그래프를 출력합니다.\n",
        "# price_per_item.index는 아이템 이름(item_name)이며 리스트로 변환한다.\n",
        "item_name_list = price_per_item.index.tolist()\n",
        "\n",
        "# x_pos는 아이템의 갯수로 배열의 크기로 지정한다. arange(50)\n",
        "x_pos = np.arange(len(item_name_list))\n",
        "\n",
        "# y_pos는 아이템 가격을 리스트로 변환한다.\n",
        "y_pos = price_per_item['item_price'].tolist()\n",
        "\n",
        "# 막대그래프 객체를 생성한다.\n",
        "plt.bar(x_pos, y_pos, align='center')\n",
        "plt.ylabel('item price($)')\n",
        "plt.title('Distribution of item price')\n",
        "plt.show()"
      ],
      "execution_count": 33,
      "outputs": [
        {
          "output_type": "display_data",
          "data": {
            "image/png": "[encoded data removed]",
            "text/plain": [
              "<Figure size 432x288 with 1 Axes>"
            ]
          },
          "metadata": {
            "needs_background": "light"
          }
        }
      ]
    },
    {
      "cell_type": "code",
      "metadata": {
        "colab": {
          "base_uri": "https://localhost:8080/"
        },
        "id": "2lDHBZgnCznv",
        "outputId": "39903b78-e02d-4f70-9d88-bbe1e65d420e"
      },
      "source": [
        "# print_per_item.index 는 아이템 이름(item_name)이다.\n",
        "print(price_per_item.index.tolist())"
      ],
      "execution_count": 36,
      "outputs": [
        {
          "output_type": "stream",
          "name": "stdout",
          "text": [
            "['6 Pack Soft Drink', 'Barbacoa Bowl', 'Barbacoa Burrito', 'Barbacoa Crispy Tacos', 'Barbacoa Salad Bowl', 'Barbacoa Soft Tacos', 'Bottled Water', 'Bowl', 'Burrito', 'Canned Soda', 'Canned Soft Drink', 'Carnitas Bowl', 'Carnitas Burrito', 'Carnitas Crispy Tacos', 'Carnitas Salad', 'Carnitas Salad Bowl', 'Carnitas Soft Tacos', 'Chicken Bowl', 'Chicken Burrito', 'Chicken Crispy Tacos', 'Chicken Salad', 'Chicken Salad Bowl', 'Chicken Soft Tacos', 'Chips', 'Chips and Fresh Tomato Salsa', 'Chips and Guacamole', 'Chips and Mild Fresh Tomato Salsa', 'Chips and Roasted Chili Corn Salsa', 'Chips and Roasted Chili-Corn Salsa', 'Chips and Tomatillo Green Chili Salsa', 'Chips and Tomatillo Red Chili Salsa', 'Chips and Tomatillo-Green Chili Salsa', 'Chips and Tomatillo-Red Chili Salsa', 'Crispy Tacos', 'Izze', 'Nantucket Nectar', 'Salad', 'Side of Chips', 'Steak Bowl', 'Steak Burrito', 'Steak Crispy Tacos', 'Steak Salad', 'Steak Salad Bowl', 'Steak Soft Tacos', 'Veggie Bowl', 'Veggie Burrito', 'Veggie Crispy Tacos', 'Veggie Salad', 'Veggie Salad Bowl', 'Veggie Soft Tacos']\n"
          ]
        }
      ]
    }
  ]
}
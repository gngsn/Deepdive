{
  "nbformat": 4,
  "nbformat_minor": 0,
  "metadata": {
    "colab": {
      "name": "기계학습_14주차_박경선(20171101)_합성곱시각화.ipynb",
      "provenance": [],
      "collapsed_sections": []
    },
    "kernelspec": {
      "name": "python3",
      "display_name": "Python 3"
    },
    "language_info": {
      "name": "python"
    }
  },
  "cells": [
    {
      "cell_type": "markdown",
      "metadata": {
        "id": "W-yOjA6pfGaq"
      },
      "source": [
        "## 학과: IT 미디어 공학과\n",
        "## 학번: 20171101\n",
        "## 이름(영문이름): 박경선(gyeongseon park)"
      ]
    },
    {
      "cell_type": "code",
      "metadata": {
        "id": "V1Qti5l9e9ks"
      },
      "source": [
        "from tensorflow import keras"
      ],
      "execution_count": 1,
      "outputs": []
    },
    {
      "cell_type": "code",
      "metadata": {
        "id": "g9mWUujuftt_"
      },
      "source": [
        "# 앞서 만든 모델이 어떤 가중치를 학습했는지 확인하기\n",
        "model = keras.models.load_model('best-cnn-model.h5')"
      ],
      "execution_count": 3,
      "outputs": []
    },
    {
      "cell_type": "code",
      "metadata": {
        "colab": {
          "base_uri": "https://localhost:8080/"
        },
        "id": "PK1Pe_pMf2qu",
        "outputId": "ba3e6833-ae9c-4b3f-8db4-c878ed9eddc7"
      },
      "source": [
        "# 모델에 추가한 층은 layers 속성에 저장되어 있다. 이 속성은 파이썬 리스트이다.\n",
        "model.layers"
      ],
      "execution_count": 10,
      "outputs": [
        {
          "output_type": "execute_result",
          "data": {
            "text/plain": [
              "[<keras.layers.convolutional.Conv2D at 0x7f7c1a01ead0>,\n",
              " <keras.layers.pooling.MaxPooling2D at 0x7f7c19f28e50>,\n",
              " <keras.layers.convolutional.Conv2D at 0x7f7c166aefd0>,\n",
              " <keras.layers.pooling.MaxPooling2D at 0x7f7c166b4d50>,\n",
              " <keras.layers.core.flatten.Flatten at 0x7f7c166b4610>,\n",
              " <keras.layers.core.dense.Dense at 0x7f7c166b4b50>,\n",
              " <keras.layers.core.dropout.Dropout at 0x7f7c1664a690>,\n",
              " <keras.layers.core.dense.Dense at 0x7f7c16686390>]"
            ]
          },
          "metadata": {},
          "execution_count": 10
        }
      ]
    },
    {
      "cell_type": "code",
      "metadata": {
        "colab": {
          "base_uri": "https://localhost:8080/"
        },
        "id": "OV3nWx51gMcB",
        "outputId": "de341d33-5d6d-4641-c872-3d057fa19bd5"
      },
      "source": [
        "# layers 속성의 첫 번째 원소 layers[0]은 weights 속성이다.\n",
        "# weights 속성의 첫 번째 원소 weights[0]은 가중치이고, 두 번째 원소 weights[1]은 절편이다.\n",
        "conv = model.layers[0]\n",
        "\n",
        "print(conv.weights[0].shape, conv.weights[1].shape)"
      ],
      "execution_count": 11,
      "outputs": [
        {
          "output_type": "stream",
          "name": "stdout",
          "text": [
            "(3, 3, 1, 32) (32,)\n"
          ]
        }
      ]
    },
    {
      "cell_type": "code",
      "metadata": {
        "colab": {
          "base_uri": "https://localhost:8080/"
        },
        "id": "Xg55vifqgixz",
        "outputId": "573ebca2-a93c-49b5-a602-7d743bdd48ef"
      },
      "source": [
        "# 가중치를 numpy()을 사용해 넘파이 배열로 변환한다.\n",
        "conv_weights = conv.weights[0].numpy()\n",
        "\n",
        "# 가중치 배열의 평균과 표준편차를 구한다.\n",
        "print(conv_weights.mean(), conv_weights.std())"
      ],
      "execution_count": 12,
      "outputs": [
        {
          "output_type": "stream",
          "name": "stdout",
          "text": [
            "-0.012730394 0.24677457\n"
          ]
        }
      ]
    },
    {
      "cell_type": "code",
      "metadata": {
        "colab": {
          "base_uri": "https://localhost:8080/",
          "height": 279
        },
        "id": "p-qUsesCgquB",
        "outputId": "9ebbd689-65d5-4e2c-ef29-353938762494"
      },
      "source": [
        "# 가중치가 어떤 분포를 가졌는지 직관적으로 이해하기 쉽도록 ㅣㅎ스토그램을 그린다.\n",
        "import matplotlib.pyplot as plt\n",
        "\n",
        "# hist()는 히스토그램을 그리기 위해 1차원 배열로 전달해야한다.\n",
        "# reshape()으로 1개의 열이 있는 배열로 변환한다.\n",
        "plt.hist(conv_weights.reshape(-1, 1))\n",
        "plt.xlabel('weight')\n",
        "plt.xlabel('count')\n",
        "plt.show()"
      ],
      "execution_count": 13,
      "outputs": [
        {
          "output_type": "display_data",
          "data": {
            "image/png": "[encoded data removed]",
            "text/plain": [
              "<Figure size 432x288 with 1 Axes>"
            ]
          },
          "metadata": {
            "needs_background": "light"
          }
        }
      ]
    },
    {
      "cell_type": "code",
      "metadata": {
        "colab": {
          "base_uri": "https://localhost:8080/",
          "height": 103
        },
        "id": "mdjHNlnIhMGD",
        "outputId": "ea2ba4c1-440d-4ce3-c8d2-154f05ebcf88"
      },
      "source": [
        "# 32개의 커널을 16개씩 두 줄에 그림으로 출력한다.\n",
        "fig, axs = plt.subplots(2, 16, figsize=(15,2))\n",
        "\n",
        "# (3, 3, 1, 32)에서 마지막 파원이 필터의 개수이며 마지막 차원을 순회하면서 그림을 출련한다.\n",
        "# vmin과 vmax으로 컬러맵의 표현 범위를 지정한다.\n",
        "for i in range(2):\n",
        "  for j in range(16):\n",
        "    axs[i, j].imshow(conv_weights[:, :, 0, i*16+j], vmin=-0.5, vmax=0.5)\n",
        "    axs[i, j].axis('off')\n",
        "\n",
        "plt.show()"
      ],
      "execution_count": 17,
      "outputs": [
        {
          "output_type": "display_data",
          "data": {
            "image/png": "[encoded data removed]",
            "text/plain": [
              "<Figure size 1080x144 with 32 Axes>"
            ]
          },
          "metadata": {
            "needs_background": "light"
          }
        }
      ]
    },
    {
      "cell_type": "markdown",
      "metadata": {
        "id": "GO0amP2epp4W"
      },
      "source": [
        "## 2. 훈련하지 않은 가중치 시각화"
      ]
    },
    {
      "cell_type": "code",
      "metadata": {
        "id": "s6RfrgHrpaLL"
      },
      "source": [
        "# 훈련하지 않은 빈 합성곱 신경망을 만들어서 가중치를 시각화 해본다.\n",
        "no_training_model = keras.Sequential()\n",
        "\n",
        "no_training_model.add(keras.layers.Conv2D(32, kernel_size=3, activation='relu',\n",
        "                                          padding='same', input_shape=(28, 28, 1)))"
      ],
      "execution_count": 18,
      "outputs": []
    },
    {
      "cell_type": "code",
      "metadata": {
        "colab": {
          "base_uri": "https://localhost:8080/"
        },
        "id": "XuFd7W_tp70D",
        "outputId": "3d9507c0-8c4e-402a-e450-daf9b48f12b9"
      },
      "source": [
        "# 모델의 layers[0]은 weights 속성이다.\n",
        "no_training_conv = no_training_model.layers[0]\n",
        "\n",
        "# weights[0]은 가중치이고 weights[1]은 절편이다.\n",
        "print(no_training_conv.weights[0].shape)"
      ],
      "execution_count": 21,
      "outputs": [
        {
          "output_type": "stream",
          "name": "stdout",
          "text": [
            "(3, 3, 1, 32)\n"
          ]
        }
      ]
    },
    {
      "cell_type": "code",
      "metadata": {
        "colab": {
          "base_uri": "https://localhost:8080/"
        },
        "id": "AWsTdRJoqIyF",
        "outputId": "407a7040-9266-4f71-91d6-973e3024ce08"
      },
      "source": [
        "# 가중치를 배열로 만들어서 평균과 표준편차를 구한다.\n",
        "no_training_wieghts = no_training_conv.weights[0].numpy()\n",
        "\n",
        "# weights[0]은 가중치이고 weights[1]은 절편이다.\n",
        "print(no_training_wieghts.mean(), no_training_wieghts.std())"
      ],
      "execution_count": 22,
      "outputs": [
        {
          "output_type": "stream",
          "name": "stdout",
          "text": [
            "0.008663559 0.079890236\n"
          ]
        }
      ]
    },
    {
      "cell_type": "code",
      "metadata": {
        "colab": {
          "base_uri": "https://localhost:8080/",
          "height": 279
        },
        "id": "qkYQ0kvOqc__",
        "outputId": "d9a4050b-1044-4198-a9d8-1ad1200d8fec"
      },
      "source": [
        "# 훈련되지 않은 가중치를 히스토그램으로 그린다.\n",
        "plt.hist(no_training_wieghts.reshape(-1, 1))\n",
        "plt.xlabel('weight')\n",
        "plt.xlabel('count')\n",
        "plt.show()"
      ],
      "execution_count": 23,
      "outputs": [
        {
          "output_type": "display_data",
          "data": {
            "image/png": "[encoded data removed]",
            "text/plain": [
              "<Figure size 432x288 with 1 Axes>"
            ]
          },
          "metadata": {
            "needs_background": "light"
          }
        }
      ]
    },
    {
      "cell_type": "code",
      "metadata": {
        "colab": {
          "base_uri": "https://localhost:8080/",
          "height": 103
        },
        "id": "QEr6oUt_qm4t",
        "outputId": "f583489e-7868-4c4d-b628-0addd6b61cc3"
      },
      "source": [
        "# 훈련되지 않은 가중치를 그림으로 출력한다.\n",
        "fig, axs = plt.subplots(2, 16, figsize=(15, 2))\n",
        "\n",
        "for i in range(2):\n",
        "  for j in range(16):\n",
        "    axs[i, j].imshow(conv_weights[:, :, 0, i*16+j], vmin=-0.5, vmax=0.5)\n",
        "    axs[i, j].axis('off')\n",
        "\n",
        "plt.show()"
      ],
      "execution_count": 24,
      "outputs": [
        {
          "output_type": "display_data",
          "data": {
            "image/png": "[encoded data removed]",
            "text/plain": [
              "<Figure size 1080x144 with 32 Axes>"
            ]
          },
          "metadata": {
            "needs_background": "light"
          }
        }
      ]
    },
    {
      "cell_type": "code",
      "metadata": {
        "id": "r9MSCi6Wqzks"
      },
      "source": [
        ""
      ],
      "execution_count": null,
      "outputs": []
    }
  ]
}
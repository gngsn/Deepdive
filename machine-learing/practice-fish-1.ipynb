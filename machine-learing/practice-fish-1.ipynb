{
  "nbformat": 4,
  "nbformat_minor": 0,
  "metadata": {
    "colab": {
      "name": "기계학습_3주차_1_박경선(20171101).ipynb",
      "provenance": [],
      "collapsed_sections": []
    },
    "kernelspec": {
      "display_name": "TensorFlow 2.3 on Python 3.6 (CUDA 10.1)",
      "language": "python",
      "name": "python3"
    },
    "language_info": {
      "codemirror_mode": {
        "name": "ipython",
        "version": 3
      },
      "file_extension": ".py",
      "mimetype": "text/x-python",
      "name": "python",
      "nbconvert_exporter": "python",
      "pygments_lexer": "ipython3",
      "version": "3.6.9"
    }
  },
  "cells": [
    {
      "cell_type": "markdown",
      "metadata": {
        "id": "2_AZ1-r9rNpV"
      },
      "source": [
        "## 학과: IT 미디어 공학과\n",
        "## 학번: 20171101\n",
        "## 이름(영문이름): 박경선(gyeongseon park)"
      ]
    },
    {
      "cell_type": "markdown",
      "metadata": {
        "id": "XNoOgNWOb5dn"
      },
      "source": [
        "## 1장 마켓과 머신러닝"
      ]
    },
    {
      "cell_type": "markdown",
      "metadata": {
        "id": "4gWy4CJxb5do"
      },
      "source": [
        "### 1. 생선(도미 vs 빙어) 분류 문제"
      ]
    },
    {
      "cell_type": "markdown",
      "metadata": {
        "id": "_MsueFNLb5do"
      },
      "source": [
        "**1.1 도미 데이터 준비하기**\n",
        "\n"
      ]
    },
    {
      "cell_type": "code",
      "metadata": {
        "id": "AhUYjyga-mAw"
      },
      "source": [
        "# 35마리의 도미를 준비했다.\n",
        "# 도미의 특성(feature)인 길이(cm)와 무게(g)를 저울로 재서 파이썬 리스트로 만든다.\n",
        "bream_length = [25.4, 26.3, 26.5, 29.0, 29.0, 29.7, 29.7, 30.0, 30.0, 30.7, 31.0, 31.0, 31.5, 32.0, 32.0, 32.0, 33.0, 33.0, 33.5, 33.5, 34.0, 34.0, 34.5, 35.0, 35.0, 35.0, 35.0, 36.0, 36.0, 37.0, 38.5, 38.5, 39.5, 41.0, 41.0]\n",
        "bream_weight = [242.0, 290.0, 340.0, 363.0, 430.0, 450.0, 500.0, 390.0, 450.0, 500.0, 475.0, 500.0, 500.0, 340.0, 600.0, 600.0, 700.0, 700.0, 610.0, 650.0, 575.0, 685.0, 620.0, 680.0, 700.0, 725.0, 720.0, 714.0, 850.0, 1000.0, 920.0, 955.0, 925.0, 975.0, 950.0]"
      ],
      "execution_count": 2,
      "outputs": []
    },
    {
      "cell_type": "markdown",
      "metadata": {
        "id": "GglJ9-KrzudJ"
      },
      "source": [
        "**1.2 도미 데이터의 산점도 (scatter plot) 그리기**"
      ]
    },
    {
      "cell_type": "code",
      "metadata": {
        "colab": {
          "base_uri": "https://localhost:8080/",
          "height": 283
        },
        "id": "akYFZxK4zx70",
        "outputId": "c039f248-6b76-499f-fe5a-341b19e6e714"
      },
      "source": [
        "import matplotlib.pyplot as plt\n",
        "\n",
        "# 산점도를 그리기 위해 scatter()에 도미의 길이와 무게를 파라미터로 준다.\n",
        "plt.scatter(bream_length, bream_weight)\n",
        "\n",
        "# xlabel()를 이용하여 x축 레이블을 지정한다.\n",
        "plt.xlabel('length')\n",
        "# ylabel()를 이용하여 y축 레이블을 지정한다.\n",
        "plt.ylabel('weight')\n",
        "\n",
        "# show() 함수를 이용하여 그래프를 보여준다.\n",
        "plt.show()\n"
      ],
      "execution_count": 5,
      "outputs": [
        {
          "output_type": "execute_result",
          "data": {
            "text/plain": [
              "<matplotlib.collections.PathCollection at 0x7f18eed5c350>"
            ]
          },
          "metadata": {},
          "execution_count": 5
        },
        {
          "output_type": "display_data",
          "data": {
            "image/png": "[encoded data removed]",
            "text/plain": [
              "<Figure size 432x288 with 1 Axes>"
            ]
          },
          "metadata": {
            "needs_background": "light"
          }
        }
      ]
    },
    {
      "cell_type": "markdown",
      "metadata": {
        "id": "rS2g7LTg28Cg"
      },
      "source": [
        "**1.3 빙어 데이터의 산점도 그리기**\n",
        "- 도미와 빙어 데이터를 함께 산점도로 그린다."
      ]
    },
    {
      "cell_type": "code",
      "metadata": {
        "id": "K3QV6lTg2SA_"
      },
      "source": [
        "# 14 마리의 빙어를 준비했다.\n",
        "# 빙어의 특성인 길이와 무게를 저울로 재서 파이썬 리스트로 만든다.\n",
        "smelt_length = [9.8, 10.5, 10.6, 11.0, 11.2, 11.3, 11.8, 11.8, 12.0, 12.2, 12.4, 13.0, 14.3, 15.0]\n",
        "smelt_weight = [6.7, 7.5, 7.0, 9.7, 9.8, 8.7, 10.0, 9.9, 9.8, 12.2, 13.4, 12.2, 19.7, 19.9]"
      ],
      "execution_count": 8,
      "outputs": []
    },
    {
      "cell_type": "code",
      "metadata": {
        "colab": {
          "base_uri": "https://localhost:8080/",
          "height": 279
        },
        "id": "GtkdHRUf2fpK",
        "outputId": "50b29b96-8d47-4791-edcc-9476aeedd806"
      },
      "source": [
        "# 도미의 산점도를 그리기 위해 scatter()에 도미의 길이와 무게를 파라미터로 준다.\n",
        "plt.scatter(bream_length, bream_weight)\n",
        "# 빙어의 산점도를 그리기 위해 scatter()에 빙어의 길이와 무게를 파라미터로 준다.\n",
        "plt.scatter(smelt_length, smelt_weight)\n",
        "\n",
        "# xlabel()를 이용하여 x축 레이블을 지정한다.\n",
        "plt.xlabel('length')\n",
        "# ylabel()를 이용하여 y축 레이블을 지정한다.\n",
        "plt.xlabel('weight')\n",
        "\n",
        "# show() 함수를 이용하여 그래프를 보여준다.\n",
        "plt.show()\n"
      ],
      "execution_count": 10,
      "outputs": [
        {
          "output_type": "display_data",
          "data": {
            "image/png": "[encoded data removed]",
            "text/plain": [
              "<Figure size 432x288 with 1 Axes>"
            ]
          },
          "metadata": {
            "needs_background": "light"
          }
        }
      ]
    },
    {
      "cell_type": "markdown",
      "metadata": {
        "id": "anSadD9q1-rW"
      },
      "source": [
        "**1.4 도미와 빙어 데이터 합치기**\n",
        "- 2차원 리스트를 만들기 위해 zip()함수와 for문을 사용한다."
      ]
    },
    {
      "cell_type": "code",
      "metadata": {
        "colab": {
          "base_uri": "https://localhost:8080/"
        },
        "id": "jMenYi8c1MSF",
        "outputId": "092251ce-ae2d-4f6f-c9b6-c92189cee627"
      },
      "source": [
        "# 도미 리스트와 빙어 리스트를 + 연산자를 이용하여 합친다.\n",
        "length = bream_length + smelt_length\n",
        "weight = bream_weight + smelt_weight\n",
        "\n",
        "# zip()는 2개의 리스트를 묶는다. 나열된 리스트 각각에서 원소를 하나씩 꺼내서 반환한다.\n",
        "# for 반복문을 이용해서 묶여진 리스트에서 원소를 하나씩 꺼내 l, w 변수에 저장하고, 리스트를 만든다.\n",
        "fish_data = [[l, w] for l,w in zip(length, weight)]\n",
        "\n",
        "# 2차원 리스트를 출력한다.\n",
        "print(fish_data)"
      ],
      "execution_count": 9,
      "outputs": [
        {
          "output_type": "stream",
          "name": "stdout",
          "text": [
            "[[25.4, 242.0], [26.3, 290.0], [26.5, 340.0], [29.0, 363.0], [29.0, 430.0], [29.7, 450.0], [29.7, 500.0], [30.0, 390.0], [30.0, 450.0], [30.7, 500.0], [31.0, 475.0], [31.0, 500.0], [31.5, 500.0], [32.0, 340.0], [32.0, 600.0], [32.0, 600.0], [33.0, 700.0], [33.0, 700.0], [33.5, 610.0], [33.5, 650.0], [34.0, 575.0], [34.0, 685.0], [34.5, 620.0], [35.0, 680.0], [35.0, 700.0], [35.0, 725.0], [35.0, 720.0], [36.0, 714.0], [36.0, 850.0], [37.0, 1000.0], [38.5, 920.0], [38.5, 955.0], [39.5, 925.0], [41.0, 975.0], [41.0, 950.0], [9.8, 6.7], [10.5, 7.5], [10.6, 7.0], [11.0, 9.7], [11.2, 9.8], [11.3, 8.7], [11.8, 10.0], [11.8, 9.9], [12.0, 9.8], [12.2, 12.2], [12.4, 13.4], [13.0, 12.2], [14.3, 19.7], [15.0, 19.9]]\n"
          ]
        }
      ]
    },
    {
      "cell_type": "markdown",
      "metadata": {
        "id": "IGEdVTO93Sbe"
      },
      "source": [
        "**1.5 정답 데이터 만들기**"
      ]
    },
    {
      "cell_type": "code",
      "metadata": {
        "colab": {
          "base_uri": "https://localhost:8080/"
        },
        "id": "pdWXh0fH3Vxi",
        "outputId": "6b51285c-945a-400f-8229-0772886fe235"
      },
      "source": [
        "# 정답 리스트를 만들기 위해 도미와 빙어를 숫자로 1과 0으로 표현한다.\n",
        "# 곱셈(*) 연산자를 사용하여 리스트의 원소를 반복시킨다.\n",
        "fish_target = [1]*35 + [0]*14\n",
        "\n",
        "# 리스트를 출력한다.\n",
        "print(fish_target)"
      ],
      "execution_count": 11,
      "outputs": [
        {
          "output_type": "stream",
          "name": "stdout",
          "text": [
            "[1, 1, 1, 1, 1, 1, 1, 1, 1, 1, 1, 1, 1, 1, 1, 1, 1, 1, 1, 1, 1, 1, 1, 1, 1, 1, 1, 1, 1, 1, 1, 1, 1, 1, 1, 0, 0, 0, 0, 0, 0, 0, 0, 0, 0, 0, 0, 0, 0]\n"
          ]
        }
      ]
    },
    {
      "cell_type": "code",
      "metadata": {
        "colab": {
          "base_uri": "https://localhost:8080/"
        },
        "id": "Jo3iWq113nX_",
        "outputId": "17a9f646-baec-4e1c-adec-bef089b8034f"
      },
      "source": [
        "# sklearn.neighbors 패키지에서 k-최근점 이웃 알고리즘을 구현한 KNeighborsClassifier만 임포트한다.\n",
        "from sklearn.neighbors import KNeighborsClassifier\n",
        "\n",
        "# KNeighborsClassifier 클래스의 kn 객체를 만든다.\n",
        "# ✍🏻 method는 특성상 소문자로 시작하지만 아래는 생성자 함수이기 때문에 대문자로 시작(class명과 이름이 동일!)\n",
        "kn = KNeighborsClassifier()\n",
        "\n",
        "# fit()는 규칙을 학습시키는 훈련 메서드이며 훈련데이터와 정답데이터를 매개변수로 준다.\n",
        "kn.fit(fish_data, fish_target)"
      ],
      "execution_count": 12,
      "outputs": [
        {
          "output_type": "execute_result",
          "data": {
            "text/plain": [
              "KNeighborsClassifier(algorithm='auto', leaf_size=30, metric='minkowski',\n",
              "                     metric_params=None, n_jobs=None, n_neighbors=5, p=2,\n",
              "                     weights='uniform')"
            ]
          },
          "metadata": {},
          "execution_count": 12
        }
      ]
    },
    {
      "cell_type": "markdown",
      "metadata": {
        "id": "BNA0GLmk4V16"
      },
      "source": [
        "**1.6 k-최근접 이웃 알고리즘으로 훈련시킨다.**"
      ]
    },
    {
      "cell_type": "code",
      "metadata": {
        "colab": {
          "base_uri": "https://localhost:8080/"
        },
        "id": "Ok3cAXBl4Zsu",
        "outputId": "6525e227-d7e9-4bd2-f5c6-f472edaba453"
      },
      "source": [
        "# sklearn.neghbors 패키지에서 k-최근접 이웃 알고리즘을 구현한 KNeighborsClassifier만 임포트한다.\n",
        "from sklearn.neighbors import KNeighborsClassifier\n",
        "\n",
        "# KNeighborsClassifier 클래스의 kn 객체를 만든다.\n",
        "kn = KNeighborsClassifier()\n",
        "\n",
        "# fit()는 규칙을 학습시키는 훈련메서드이며 훈련데이터와 정답데이터를 매개변수로 준다.\n",
        "kn.fit(fish_data, fish_target)"
      ],
      "execution_count": 14,
      "outputs": [
        {
          "output_type": "execute_result",
          "data": {
            "text/plain": [
              "KNeighborsClassifier(algorithm='auto', leaf_size=30, metric='minkowski',\n",
              "                     metric_params=None, n_jobs=None, n_neighbors=5, p=2,\n",
              "                     weights='uniform')"
            ]
          },
          "metadata": {},
          "execution_count": 14
        }
      ]
    },
    {
      "cell_type": "markdown",
      "metadata": {
        "id": "xIs7_ec787rg"
      },
      "source": [
        "**1.7 모델을 평가한다.**"
      ]
    },
    {
      "cell_type": "code",
      "metadata": {
        "colab": {
          "base_uri": "https://localhost:8080/"
        },
        "id": "SycPAtJG7Pjz",
        "outputId": "2ba57aef-5d3f-45f9-8b10-132717e7a5aa"
      },
      "source": [
        "# score()는 모델을 평가하는 메서드이며 훈련데이터와 정답데이터를 매개변수로 준다.\n",
        "kn.score(fish_data, fish_target)"
      ],
      "execution_count": 15,
      "outputs": [
        {
          "output_type": "execute_result",
          "data": {
            "text/plain": [
              "1.0"
            ]
          },
          "metadata": {},
          "execution_count": 15
        }
      ]
    },
    {
      "cell_type": "markdown",
      "metadata": {
        "id": "vmg3RPNj7YoY"
      },
      "source": [
        "**1.8 새로운 생선 예측하기**\n",
        "- 새로운 생선 예측하기를 확인하기 위해 산점도를 그려본다."
      ]
    },
    {
      "cell_type": "code",
      "metadata": {
        "colab": {
          "base_uri": "https://localhost:8080/",
          "height": 279
        },
        "id": "bxkMaDh67fKA",
        "outputId": "0abc66e2-d36c-4096-dee3-8e7545c4f0ae"
      },
      "source": [
        "# 다시 산점도를 그리기 위해 scatter()에 도미데이터와 빙어데이터를 매개변수로 준다.\n",
        "plt.scatter(bream_length, bream_weight)\n",
        "plt.scatter(smelt_length, smelt_weight)\n",
        "\n",
        "# 새로운 생선 길이(x축) 30, 무게(y축) 600 좌표에 marker 표시를 한다.\n",
        "plt.scatter(30, 600, marker='^')\n",
        "\n",
        "# x축, y축 레이블을 표시한다.\n",
        "plt.xlabel('length')\n",
        "plt.xlabel('weight')\n",
        "plt.show()"
      ],
      "execution_count": 17,
      "outputs": [
        {
          "output_type": "display_data",
          "data": {
            "image/png": "[encoded data removed]",
            "text/plain": [
              "<Figure size 432x288 with 1 Axes>"
            ]
          },
          "metadata": {
            "needs_background": "light"
          }
        }
      ]
    },
    {
      "cell_type": "code",
      "metadata": {
        "colab": {
          "base_uri": "https://localhost:8080/"
        },
        "id": "C5wpGPU0_5I8",
        "outputId": "8dc5d1e3-e0ec-47c3-fae0-c448f0387091"
      },
      "source": [
        "# predict() 메소드는 새로운 데이터의 정답을 예측한다. 결과는 1 -> 도미를 나타냄\n",
        "kn.predict([[30, 600]])"
      ],
      "execution_count": 18,
      "outputs": [
        {
          "output_type": "execute_result",
          "data": {
            "text/plain": [
              "array([1])"
            ]
          },
          "metadata": {},
          "execution_count": 18
        }
      ]
    }
  ]
}
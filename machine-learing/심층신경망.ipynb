{
  "cells": [
    {
      "cell_type": "markdown",
      "metadata": {
        "id": "uoOQA7HbMNsG"
      },
      "source": [
        "## 10장. 심층신경망"
      ]
    },
    {
      "cell_type": "markdown",
      "metadata": {
        "id": "5IgpPgJ_KBXP"
      },
      "source": [
        "### 1. 데이터를 준비하고 밀집층 만들기\n",
        "**1.1 패션 MNIST 데이터셋 준비하기**"
      ]
    },
    {
      "cell_type": "code",
      "execution_count": 23,
      "metadata": {
        "id": "DM59vr_eLRZW"
      },
      "outputs": [],
      "source": [
        "# 텐서플로 라이브러리에서 keras 패키지를 임포트한다.\n",
        "from tensorflow import keras\n",
        "\n",
        "# keras.datasets.fashion_mnist 모듈 아래 load_data()은 패션 MNIST 데이터를 로드하고\n",
        "# 훈련 세트와 테스트 세트로 나누어 반환한다.\n",
        "(train_input, train_target), (test_input, test_target) = keras.datasets.fashion_mnist.load_data()"
      ]
    },
    {
      "cell_type": "markdown",
      "metadata": {
        "id": "eXn5N-K_SO_R"
      },
      "source": [
        "**1.2 데이터 전처리와 훈련세트 & 검증세트 나누기**"
      ]
    },
    {
      "cell_type": "code",
      "execution_count": 24,
      "metadata": {
        "id": "86Zucnj4SUng"
      },
      "outputs": [],
      "source": [
        "from sklearn.model_selection import train_test_split\n",
        "\n",
        "# 각 픽셀값(0~255)을 255로 나누어 0~1 사이의 값으로 정규화한다.\n",
        "train_scaled = train_input / 255.0\n",
        "\n",
        "# reshape()으로 원본 배열(60000, 28, 28)의 두번째, 세 번째 차원을 1차원으로 한다.\n",
        "train_scaled = train_scaled.reshape(-1, 28*28)\n",
        "\n",
        "# 전처리된 데이터를 다시 훈련세트와 검증세트로 분리한다.\n",
        "train_scaled, val_scaled, train_target, val_target = train_test_split(\n",
        "    train_scaled, train_target, test_size=0.2, random_state=42\n",
        ")"
      ]
    },
    {
      "cell_type": "markdown",
      "metadata": {
        "id": "WPxw2i-pTMK_"
      },
      "source": [
        "**1.3 밀집층 2개 만들기**"
      ]
    },
    {
      "cell_type": "code",
      "execution_count": 25,
      "metadata": {
        "id": "rm3WIrN8S4Ou"
      },
      "outputs": [],
      "source": [
        "# 은닉층으로 사용될 밀집층 객체 dense1을 생성한다.\n",
        "dense1 = keras.layers.Dense(100, activation='sigmoid', input_shape=(784,))\n",
        "\n",
        "# 출력층으로 사용될 밀집층 객체 dense2을 생성한다.\n",
        "dense2 = keras.layers.Dense(10, activation='softmax')"
      ]
    },
    {
      "cell_type": "markdown",
      "metadata": {
        "id": "YJ8gfI6QTgag"
      },
      "source": [
        "## 2. 심층 신경망 모델 만들기"
      ]
    },
    {
      "cell_type": "code",
      "execution_count": 26,
      "metadata": {
        "id": "kmlN4Ql3Tojk"
      },
      "outputs": [],
      "source": [
        "# 밀집층 dense1, dense2 로 심층신경망모델을 생성한다.\n",
        "model = keras.Sequential([dense1, dense2])"
      ]
    },
    {
      "cell_type": "code",
      "execution_count": 27,
      "metadata": {
        "colab": {
          "base_uri": "https://localhost:8080/"
        },
        "id": "ChMiYZ6XTvcf",
        "outputId": "61035db6-7727-42d8-eeca-5f60261063f6"
      },
      "outputs": [
        {
          "name": "stdout",
          "output_type": "stream",
          "text": [
            "Model: \"sequential_4\"\n",
            "_________________________________________________________________\n",
            " Layer (type)                Output Shape              Param #   \n",
            "=================================================================\n",
            " dense_8 (Dense)             (None, 100)               78500     \n",
            "                                                                 \n",
            " dense_9 (Dense)             (None, 10)                1010      \n",
            "                                                                 \n",
            "=================================================================\n",
            "Total params: 79,510\n",
            "Trainable params: 79,510\n",
            "Non-trainable params: 0\n",
            "_________________________________________________________________\n"
          ]
        }
      ],
      "source": [
        "# 케라스는 모델의 summary()를 호출하면 층에 대한 유용한 정보를 얻을 수 있다.\n",
        "model.summary()"
      ]
    },
    {
      "cell_type": "markdown",
      "metadata": {
        "id": "bg-QvGmOT3mW"
      },
      "source": [
        "### 3. 층을 추가하는 다른 방법"
      ]
    },
    {
      "cell_type": "markdown",
      "metadata": {
        "id": "mOtXqQ64UK6Z"
      },
      "source": [
        "**3.1 Sequential 클래스의 생성자 안에서 층을 추가하는 방법**"
      ]
    },
    {
      "cell_type": "code",
      "execution_count": 28,
      "metadata": {
        "id": "BOEk_33wT9Um"
      },
      "outputs": [],
      "source": [
        "model = keras.Sequential([\n",
        "  keras.layers.Dense(100, activation='sigmoid', input_shape=(784,), name='hidden'),\n",
        "  keras.layers.Dense(10, activation='softmax', name='output')\n",
        "], name='패션 MNIST 모델')"
      ]
    },
    {
      "cell_type": "code",
      "execution_count": 29,
      "metadata": {
        "colab": {
          "base_uri": "https://localhost:8080/"
        },
        "id": "vurWJAaGULix",
        "outputId": "3ea293d6-cabc-4eee-a276-9ef5c3ff3971"
      },
      "outputs": [
        {
          "name": "stdout",
          "output_type": "stream",
          "text": [
            "Model: \"패션 MNIST 모델\"\n",
            "_________________________________________________________________\n",
            " Layer (type)                Output Shape              Param #   \n",
            "=================================================================\n",
            " hidden (Dense)              (None, 100)               78500     \n",
            "                                                                 \n",
            " output (Dense)              (None, 10)                1010      \n",
            "                                                                 \n",
            "=================================================================\n",
            "Total params: 79,510\n",
            "Trainable params: 79,510\n",
            "Non-trainable params: 0\n",
            "_________________________________________________________________\n"
          ]
        }
      ],
      "source": [
        "model.summary()"
      ]
    },
    {
      "cell_type": "markdown",
      "metadata": {
        "id": "NK3UejRnUSlr"
      },
      "source": [
        "**3.2 add()로 층을 추가하는 방법**"
      ]
    },
    {
      "cell_type": "code",
      "execution_count": 58,
      "metadata": {
        "id": "sqGNq_yxURIh"
      },
      "outputs": [],
      "source": [
        "model = keras.Sequential(name=\"Fashion_MNIST_model\")\n",
        "model.add(keras.layers.Dense(100, activation='sigmoid', input_shape=(784,), name='hidden'))\n",
        "model.add(keras.layers.Dense(10, activation='softmax', name='output'))"
      ]
    },
    {
      "cell_type": "code",
      "execution_count": 59,
      "metadata": {
        "colab": {
          "base_uri": "https://localhost:8080/"
        },
        "id": "ZmowJPvMY_Q5",
        "outputId": "9cdae18f-dbf4-4826-b6d6-33043d682e41"
      },
      "outputs": [
        {
          "name": "stdout",
          "output_type": "stream",
          "text": [
            "Model: \"Fashion_MNIST_model\"\n",
            "_________________________________________________________________\n",
            " Layer (type)                Output Shape              Param #   \n",
            "=================================================================\n",
            " hidden (Dense)              (None, 100)               78500     \n",
            "                                                                 \n",
            " output (Dense)              (None, 10)                1010      \n",
            "                                                                 \n",
            "=================================================================\n",
            "Total params: 79,510\n",
            "Trainable params: 79,510\n",
            "Non-trainable params: 0\n",
            "_________________________________________________________________\n"
          ]
        }
      ],
      "source": [
        "model.summary()"
      ]
    },
    {
      "cell_type": "markdown",
      "metadata": {
        "id": "x8h-xpXrZCga"
      },
      "source": [
        "**3.3 층을 추가해서 다시 훈련시키기**"
      ]
    },
    {
      "cell_type": "code",
      "execution_count": 60,
      "metadata": {
        "colab": {
          "base_uri": "https://localhost:8080/"
        },
        "id": "CynGwO4AZAqH",
        "outputId": "e8328693-0060-4485-ce7b-9de8ccbc850b"
      },
      "outputs": [
        {
          "name": "stdout",
          "output_type": "stream",
          "text": [
            "Epoch 1/5\n",
            "1500/1500 [==============================] - 4s 3ms/step - loss: 0.5635 - accuracy: 0.8081\n",
            "Epoch 2/5\n",
            "1500/1500 [==============================] - 4s 3ms/step - loss: 0.4088 - accuracy: 0.8518\n",
            "Epoch 3/5\n",
            "1500/1500 [==============================] - 4s 3ms/step - loss: 0.3725 - accuracy: 0.8643\n",
            "Epoch 4/5\n",
            "1500/1500 [==============================] - 4s 3ms/step - loss: 0.3508 - accuracy: 0.8733\n",
            "Epoch 5/5\n",
            "1500/1500 [==============================] - 4s 3ms/step - loss: 0.3344 - accuracy: 0.8793\n"
          ]
        },
        {
          "data": {
            "text/plain": [
              "<keras.callbacks.History at 0x7f914c5e6050>"
            ]
          },
          "execution_count": 60,
          "metadata": {},
          "output_type": "execute_result"
        }
      ],
      "source": [
        "model.compile(loss='sparse_categorical_crossentropy', metrics='accuracy')\n",
        "model.fit(train_scaled, train_target, epochs=5)"
      ]
    },
    {
      "cell_type": "markdown",
      "metadata": {
        "id": "yu40dwiKZS7N"
      },
      "source": [
        "### 4. 렐루 활성화 함수"
      ]
    },
    {
      "cell_type": "markdown",
      "metadata": {
        "id": "pyR4DtKrZcEM"
      },
      "source": [
        "**4.1 렐루함수와 Flatten 층을 추가해서 심층심경망 모델 만들기**"
      ]
    },
    {
      "cell_type": "code",
      "execution_count": 70,
      "metadata": {
        "id": "STeP9G8sZQCh"
      },
      "outputs": [],
      "source": [
        "# 신경망 모델 객체를 생성한다.\n",
        "model = keras.Sequential(name='Fashion_MNIST_model')\n",
        "\n",
        "# 입력을 1차원으로 펼치는 Flatten 층을 추가한다.\n",
        "model.add(keras.layers.Flatten(input_shape=(28, 28)))\n",
        "\n",
        "# add()로 은닉층과 출력층을 추가한다.\n",
        "# 은닉층의 활성화 함수에 렐루(relu)함수를 지정한다.\n",
        "model.add(keras.layers.Dense(100, activation='relu', name='hidden'))\n",
        "model.add(keras.layers.Dense(10, activation='softmax', name='output'))"
      ]
    },
    {
      "cell_type": "code",
      "execution_count": 71,
      "metadata": {
        "colab": {
          "base_uri": "https://localhost:8080/"
        },
        "id": "BQSBmeZ5ZaxN",
        "outputId": "ba7fe918-d9a6-4cf5-82c7-ba5d55bd1a28"
      },
      "outputs": [
        {
          "name": "stdout",
          "output_type": "stream",
          "text": [
            "Model: \"Fashion_MNIST_model\"\n",
            "_________________________________________________________________\n",
            " Layer (type)                Output Shape              Param #   \n",
            "=================================================================\n",
            " flatten_3 (Flatten)         (None, 784)               0         \n",
            "                                                                 \n",
            " hidden (Dense)              (None, 100)               78500     \n",
            "                                                                 \n",
            " output (Dense)              (None, 10)                1010      \n",
            "                                                                 \n",
            "=================================================================\n",
            "Total params: 79,510\n",
            "Trainable params: 79,510\n",
            "Non-trainable params: 0\n",
            "_________________________________________________________________\n"
          ]
        }
      ],
      "source": [
        "model.summary()"
      ]
    },
    {
      "cell_type": "markdown",
      "metadata": {
        "id": "uYLOHJHrepGr"
      },
      "source": [
        "**4.2 훈련 데이터 준비하기(reshape() 사용 안함)**"
      ]
    },
    {
      "cell_type": "code",
      "execution_count": 72,
      "metadata": {
        "id": "IHGCXtNbdClp"
      },
      "outputs": [],
      "source": [
        "(train_input, train_target), (test_input, test_target) = \\\n",
        "  keras.datasets.fashion_mnist.load_data()\n",
        "\n",
        "train_scaled = train_input / 255.0\n",
        "\n",
        "train_scaled, val_scaled, train_target, val_target = train_test_split(\n",
        "    train_scaled, train_target, test_size=0.2, random_state=42\n",
        ")"
      ]
    },
    {
      "cell_type": "markdown",
      "metadata": {
        "id": "rRDUsJO_feQp"
      },
      "source": [
        "**4.3 다시 모델 설정하고 훈련시키기**"
      ]
    },
    {
      "cell_type": "code",
      "execution_count": 68,
      "metadata": {
        "colab": {
          "base_uri": "https://localhost:8080/"
        },
        "id": "X_xBQ7frfM4h",
        "outputId": "4513ee59-0aca-418d-bf77-60657f9bc4f2"
      },
      "outputs": [
        {
          "name": "stdout",
          "output_type": "stream",
          "text": [
            "Epoch 1/5\n",
            "1500/1500 [==============================] - 4s 3ms/step - loss: 0.5316 - accuracy: 0.8117\n",
            "Epoch 2/5\n",
            "1500/1500 [==============================] - 4s 3ms/step - loss: 0.3954 - accuracy: 0.8582\n",
            "Epoch 3/5\n",
            "1500/1500 [==============================] - 4s 3ms/step - loss: 0.3589 - accuracy: 0.8714\n",
            "Epoch 4/5\n",
            "1500/1500 [==============================] - 4s 3ms/step - loss: 0.3360 - accuracy: 0.8788\n",
            "Epoch 5/5\n",
            "1500/1500 [==============================] - 4s 3ms/step - loss: 0.3187 - accuracy: 0.8860\n"
          ]
        },
        {
          "data": {
            "text/plain": [
              "<keras.callbacks.History at 0x7f914c4f7ad0>"
            ]
          },
          "execution_count": 68,
          "metadata": {},
          "output_type": "execute_result"
        }
      ],
      "source": [
        "model.compile(loss='sparse_categorical_crossentropy', metrics='accuracy')\n",
        "\n",
        "model.fit(train_scaled, train_target, epochs=5)"
      ]
    },
    {
      "cell_type": "markdown",
      "metadata": {
        "id": "teV2LU5Tfpum"
      },
      "source": [
        "**4.4 검증세트로 모델 평가하기**"
      ]
    },
    {
      "cell_type": "code",
      "execution_count": 69,
      "metadata": {
        "colab": {
          "base_uri": "https://localhost:8080/"
        },
        "id": "hLVnkJq0fnsL",
        "outputId": "2cc1bed5-02fb-486e-ced0-4bc96f73ff1f"
      },
      "outputs": [
        {
          "name": "stdout",
          "output_type": "stream",
          "text": [
            "375/375 [==============================] - 1s 2ms/step - loss: 0.3687 - accuracy: 0.8773\n"
          ]
        },
        {
          "data": {
            "text/plain": [
              "[0.3686736524105072, 0.8772500157356262]"
            ]
          },
          "execution_count": 69,
          "metadata": {},
          "output_type": "execute_result"
        }
      ],
      "source": [
        "model.evaluate(val_scaled, val_target)"
      ]
    }
  ],
  "metadata": {
    "colab": {
      "collapsed_sections": [],
      "name": "기계학습_12주차_박경선(20171101)_심층신경망.ipynb",
      "provenance": []
    },
    "kernelspec": {
      "display_name": "Python 3",
      "name": "python3"
    },
    "language_info": {
      "name": "python"
    }
  },
  "nbformat": 4,
  "nbformat_minor": 0
}

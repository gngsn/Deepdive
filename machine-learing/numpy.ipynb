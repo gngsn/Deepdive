{
  "nbformat": 4,
  "nbformat_minor": 0,
  "metadata": {
    "colab": {
      "name": "기계학습_2주차_2_박경선(20171101).ipynb",
      "provenance": [],
      "collapsed_sections": []
    },
    "kernelspec": {
      "name": "python3",
      "display_name": "Python 3"
    },
    "language_info": {
      "name": "python"
    }
  },
  "cells": [
    {
      "cell_type": "markdown",
      "metadata": {
        "id": "MNeG4Q3Bd0lz"
      },
      "source": [
        "### 학과: IT 미디어 공학과 \n",
        "### 학번: 20171101\n",
        "### 이름(영문이름): 박경선(gyeongseon park)"
      ]
    },
    {
      "cell_type": "markdown",
      "metadata": {
        "id": "u3_bSlCGeKFl"
      },
      "source": [
        "### 3. Numpy 사용법\n",
        "\n",
        "3.1 넘파이 라이브러리 불러오기"
      ]
    },
    {
      "cell_type": "code",
      "metadata": {
        "id": "czMokQoNeBfs"
      },
      "source": [
        "# Numpy Lib는 보통 np 라는 이름으로 축약하여 사용한다.\n",
        "import numpy as np"
      ],
      "execution_count": 2,
      "outputs": []
    },
    {
      "cell_type": "markdown",
      "metadata": {
        "id": "FqzC1QCCe9X_"
      },
      "source": [
        "3.2 넘파이 배열 생성하기"
      ]
    },
    {
      "cell_type": "code",
      "metadata": {
        "colab": {
          "base_uri": "https://localhost:8080/"
        },
        "id": "wzrWFx4YeTNW",
        "outputId": "ad8693c4-4d0f-42d4-9b49-34c62c50cb31"
      },
      "source": [
        "# np.arange(5)는 [0:5]범위에서 간격 1로 증가하는 배열을 만든다.\n",
        "a = np.arange(5)\n",
        "print(a)\n",
        "\n",
        "# np.arange(1, 5)는 [1:5] 범위에서 간격 1로 증가하는 배열을 만든다.\n",
        "b = np.arange(1, 5)\n",
        "print(b)\n",
        "\n",
        "# np.arange(2, 10, 2)는 [2:10] 범위에서 간격 2로 증가하는 배열을 만든다.\n",
        "c = np.arange(2, 10, 2)\n",
        "print(c)"
      ],
      "execution_count": 4,
      "outputs": [
        {
          "output_type": "stream",
          "name": "stdout",
          "text": [
            "[0 1 2 3 4]\n",
            "[1 2 3 4]\n",
            "[2 4 6 8]\n"
          ]
        }
      ]
    },
    {
      "cell_type": "code",
      "metadata": {
        "colab": {
          "base_uri": "https://localhost:8080/"
        },
        "id": "c5LGAKmefxtk",
        "outputId": "44dafcd5-96c2-47c4-f0e4-740cc2a21961"
      },
      "source": [
        "# arange(15)는 [0:15] 범위에서 간격 1로 증가하는 배열을 만든다.\n",
        "# reshape(3,5)는 1차원 배열을 3행 5열의 2차원 배열로 변환한다.\n",
        "arr1 = np.arange(15).reshape(3, 5)\n",
        "print(arr1)"
      ],
      "execution_count": 8,
      "outputs": [
        {
          "output_type": "stream",
          "name": "stdout",
          "text": [
            "[[ 0  1  2  3  4]\n",
            " [ 5  6  7  8  9]\n",
            " [10 11 12 13 14]]\n"
          ]
        }
      ]
    },
    {
      "cell_type": "code",
      "metadata": {
        "colab": {
          "base_uri": "https://localhost:8080/"
        },
        "id": "3l1k8VqvfIsL",
        "outputId": "4ae0a7a4-fcc9-462f-ff47-e937ff85aac0"
      },
      "source": [
        "# np.array()로 1차원 배열 만들기\n",
        "arr2 = np.array([6,7,8])\n",
        "print(arr2)"
      ],
      "execution_count": 5,
      "outputs": [
        {
          "output_type": "stream",
          "name": "stdout",
          "text": [
            "[6 7 8]\n"
          ]
        }
      ]
    },
    {
      "cell_type": "code",
      "metadata": {
        "colab": {
          "base_uri": "https://localhost:8080/"
        },
        "id": "j-OG9n5jfQdn",
        "outputId": "7a369749-cf2d-41c1-d049-1a1898304ed0"
      },
      "source": [
        "# np.array()로 2차원 배열 만들기\n",
        "arr3 = np.array([\n",
        "                 [1,2,3],\n",
        "                 [4,5,6]\n",
        "])\n",
        "print(arr3)"
      ],
      "execution_count": 6,
      "outputs": [
        {
          "output_type": "stream",
          "name": "stdout",
          "text": [
            "[[1 2 3]\n",
            " [4 5 6]]\n"
          ]
        }
      ]
    },
    {
      "cell_type": "markdown",
      "metadata": {
        "id": "V-oJ7Hu0d2Jy"
      },
      "source": [
        "3.3 넘파이 배열 정보 확인하기"
      ]
    },
    {
      "cell_type": "code",
      "metadata": {
        "colab": {
          "base_uri": "https://localhost:8080/"
        },
        "id": "ZaJavV76fjPY",
        "outputId": "b1957156-b4a8-4b25-cba6-1a08a6d40c40"
      },
      "source": [
        "# shape 속성은 arr1 배열의 차원을 출력한다.\n",
        "arr1.shape"
      ],
      "execution_count": 10,
      "outputs": [
        {
          "output_type": "execute_result",
          "data": {
            "text/plain": [
              "(3, 5)"
            ]
          },
          "metadata": {},
          "execution_count": 10
        }
      ]
    },
    {
      "cell_type": "code",
      "metadata": {
        "colab": {
          "base_uri": "https://localhost:8080/"
        },
        "id": "nw6dB874gKTi",
        "outputId": "77a363aa-b27f-42ae-b61d-1d86b0104f78"
      },
      "source": [
        "# dtype 속성은 arr1 배열의 데이터타입을 출력한다.\n",
        "arr1.dtype"
      ],
      "execution_count": 12,
      "outputs": [
        {
          "output_type": "execute_result",
          "data": {
            "text/plain": [
              "dtype('int64')"
            ]
          },
          "metadata": {},
          "execution_count": 12
        }
      ]
    },
    {
      "cell_type": "code",
      "metadata": {
        "colab": {
          "base_uri": "https://localhost:8080/"
        },
        "id": "Z7U3cBQXgelk",
        "outputId": "376a92a6-3a83-4ecf-a879-a02c103ed4c1"
      },
      "source": [
        "# zeros()는 0으로 채워진 넘파이 배열을 생성한다.\n",
        "arr4 = np.zeros((3,4))\n",
        "print(arr4)"
      ],
      "execution_count": 13,
      "outputs": [
        {
          "output_type": "stream",
          "name": "stdout",
          "text": [
            "[[0. 0. 0. 0.]\n",
            " [0. 0. 0. 0.]\n",
            " [0. 0. 0. 0.]]\n"
          ]
        }
      ]
    },
    {
      "cell_type": "code",
      "metadata": {
        "colab": {
          "base_uri": "https://localhost:8080/"
        },
        "id": "-6NIxY2Bgn-0",
        "outputId": "5c7ca878-3b5a-43d6-ce62-02277e76b49a"
      },
      "source": [
        "# ones()는 1로 채워진 넘파이 배열을 생성한다.\n",
        "arr5 = np.ones((3,4))\n",
        "print(arr5)"
      ],
      "execution_count": 14,
      "outputs": [
        {
          "output_type": "stream",
          "name": "stdout",
          "text": [
            "[[1. 1. 1. 1.]\n",
            " [1. 1. 1. 1.]\n",
            " [1. 1. 1. 1.]]\n"
          ]
        }
      ]
    },
    {
      "cell_type": "markdown",
      "metadata": {
        "id": "XFY60AEsgwrl"
      },
      "source": [
        "3.5 넘파이 배열을 이용한 사칙연산"
      ]
    },
    {
      "cell_type": "code",
      "metadata": {
        "id": "UV7LIXLngwAV"
      },
      "source": [
        "arr6 = np.array([\n",
        "    [1,2,3],\n",
        "    [4,5,6]\n",
        "], dtype = np.float64)\n",
        "\n",
        "arr7 = np.array([\n",
        "    [7,8,9],\n",
        "    [10,11,12]\n",
        "], dtype = np.float64)"
      ],
      "execution_count": 16,
      "outputs": []
    },
    {
      "cell_type": "code",
      "metadata": {
        "colab": {
          "base_uri": "https://localhost:8080/"
        },
        "id": "seNIM3OmhF8w",
        "outputId": "6e647e2b-b38d-494c-abb7-4c6baf948ba3"
      },
      "source": [
        "# 배열의 요소별로 사칙연산을 수행한다.\n",
        "print(\"arr6 + arr7 = \")\n",
        "print(arr6 + arr7, '\\n')\n",
        "print(\"arr6 - arr7 = \")\n",
        "print(arr6 - arr7, '\\n')\n",
        "print(\"arr6 * arr7 = \")\n",
        "print(arr6 * arr7, '\\n')\n",
        "print(\"arr6 / arr7 = \")\n",
        "print(arr6 / arr7, '\\n')"
      ],
      "execution_count": 17,
      "outputs": [
        {
          "output_type": "stream",
          "name": "stdout",
          "text": [
            "arr6 + arr7 = \n",
            "[[ 8. 10. 12.]\n",
            " [14. 16. 18.]] \n",
            "\n",
            "arr6 - arr7 = \n",
            "[[-6. -6. -6.]\n",
            " [-6. -6. -6.]] \n",
            "\n",
            "arr6 * arr7 = \n",
            "[[ 7. 16. 27.]\n",
            " [40. 55. 72.]] \n",
            "\n",
            "arr6 / arr7 = \n",
            "[[0.14285714 0.25       0.33333333]\n",
            " [0.4        0.45454545 0.5       ]] \n",
            "\n"
          ]
        }
      ]
    },
    {
      "cell_type": "markdown",
      "metadata": {
        "id": "UE_SypYrhbmY"
      },
      "source": [
        "4.1 Matplotlib 라이브러리 불러오기"
      ]
    },
    {
      "cell_type": "code",
      "metadata": {
        "id": "24dPn1eAhe64"
      },
      "source": [
        "# matplotlib 라이브러리는 보통 plt 라는 이름으로 축약하여 사용한다.\n",
        "import matplotlib.pyplot as plt\n",
        "\n",
        "# 주피터 노츠북에서 그래프를 출력가능하도록 선언하는 명령어이다.\n",
        "%matplotlib inline"
      ],
      "execution_count": 18,
      "outputs": []
    },
    {
      "cell_type": "markdown",
      "metadata": {
        "id": "YVxfm3YLhxCm"
      },
      "source": [
        "4.2 막대 그래프(Bar plot) 출력하기"
      ]
    },
    {
      "cell_type": "code",
      "metadata": {
        "id": "Vo8J_Mpakd9r"
      },
      "source": [
        "import pandas as pd\n",
        "BabyDataSet = list(zip(['Bob','Jessica','Mary','John','Mel'], [123,254,32,235,243]))\n",
        "\n",
        "# pd.DataFrame(data=BabyDataSet, columns=컬럼명)으로 데이터프레임이 생성된다.\n",
        "df = pd.DataFrame(data=BabyDataSet, columns=['Names', 'Births'])\n"
      ],
      "execution_count": 21,
      "outputs": []
    },
    {
      "cell_type": "code",
      "metadata": {
        "colab": {
          "base_uri": "https://localhost:8080/",
          "height": 295
        },
        "id": "vgIjSjkmh0YK",
        "outputId": "e7356825-7431-446e-d11b-21ef3b92e01a"
      },
      "source": [
        "# df 데이터 프레임의 Names 열의 데이터를 x축으로 지정한다.\n",
        "# df 데이터 프레임의 Births 열의 데이터를 y축으로 지정한다.\n",
        "x = df['Names']\n",
        "y = df['Births']\n",
        "\n",
        "# bar plot을 출력한다.\n",
        "plt.bar(x, y) # 막대그래프 객체 생성\n",
        "plt.xlabel('Names') # x축 제목\n",
        "plt.ylabel('Births') # y축 제목\n",
        "plt.title('Bar plot') # 그래프 제목\n",
        "plt.show() # 그래프 출력"
      ],
      "execution_count": 22,
      "outputs": [
        {
          "output_type": "display_data",
          "data": {
            "image/png": "[encoded data removed]",
            "text/plain": [
              "<Figure size 432x288 with 1 Axes>"
            ]
          },
          "metadata": {
            "needs_background": "light"
          }
        }
      ]
    },
    {
      "cell_type": "markdown",
      "metadata": {
        "id": "WA6UsxrXl9s9"
      },
      "source": [
        "4.3 산점도 그래프(sctter plot) 출력하기"
      ]
    },
    {
      "cell_type": "code",
      "metadata": {
        "colab": {
          "base_uri": "https://localhost:8080/",
          "height": 295
        },
        "id": "B4yvfWo5k6zu",
        "outputId": "27bdabc5-e1d3-4658-beff-cee83e373de3"
      },
      "source": [
        "# 랜덤 추출 시드를 고정한다.\n",
        "np.random.seed(19920613)\n",
        "\n",
        "# scatter plot 데이터를 생성한다.\n",
        "# np. arange(start, stop, step)으로 숫자를 생성하여 x축 데이터를 지정한다.\n",
        "x = np.arange(0.0, 100.0, 5.0)\n",
        "\n",
        "# np.random.rand(20)은 20개의 난수를 생성하여 y축 데이터를 지정한다.\n",
        "y = (x * 1.5) + np.random.rand(20) * 50\n",
        "\n",
        "# scatter plot을 출력한다.\n",
        "# c=\"b\"은 color=\"blue\"를 의미하고, alpha=0.5는 불투명도를 의미한다.\n",
        "plt.scatter(x, y, c=\"b\", alpha=0.5, label=\"scatter point\") # 산점도 그래프 객체 생성\n",
        "plt.xlabel(\"X\")\n",
        "plt.ylabel(\"Y\")\n",
        "plt.legend(loc='upper left') # 범례를 오른쪽 위쪽에 위치시킨다.\n",
        "plt.title('Scatter plot')\n",
        "plt.show()"
      ],
      "execution_count": 24,
      "outputs": [
        {
          "output_type": "display_data",
          "data": {
            "image/png": "[encoded data removed]",
            "text/plain": [
              "<Figure size 432x288 with 1 Axes>"
            ]
          },
          "metadata": {
            "needs_background": "light"
          }
        }
      ]
    }
  ]
}
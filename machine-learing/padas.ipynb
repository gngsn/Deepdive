{
 "cells": [
  {
   "cell_type": "markdown",
   "metadata": {
    "id": "xBHHynUCuUGI"
   },
   "source": [
    "### 학과: IT 미디어 공학과 \n",
    "### 학번: 20171101\n",
    "### 이름(영문이름): 박경선(gyeongseon park)\n"
   ]
  },
  {
   "cell_type": "markdown",
   "metadata": {
    "id": "4S_WCsalwdGE"
   },
   "source": [
    "### > 1. 라이브러리 설치\n",
    "1.1 판다스, 넘파이, 맷플롯립 라이브러리 설치"
   ]
  },
  {
   "cell_type": "code",
   "execution_count": 2,
   "metadata": {
    "colab": {
     "base_uri": "https://localhost:8080/"
    },
    "id": "G_flrWhyudzN",
    "outputId": "8af45f4d-be36-4c33-ab0b-50c29a1edd83"
   },
   "outputs": [
    {
     "name": "stdout",
     "output_type": "stream",
     "text": [
      "Requirement already satisfied: pandas in /Library/Frameworks/Python.framework/Versions/3.8/lib/python3.8/site-packages (1.2.4)\n",
      "Requirement already satisfied: numpy in /Library/Frameworks/Python.framework/Versions/3.8/lib/python3.8/site-packages (1.19.5)\n",
      "Requirement already satisfied: matplotlib in /Library/Frameworks/Python.framework/Versions/3.8/lib/python3.8/site-packages (3.4.2)\n",
      "Requirement already satisfied: python-dateutil>=2.7.3 in /Users/gyeongseon/Library/Python/3.8/lib/python/site-packages (from pandas) (2.8.1)\n",
      "Requirement already satisfied: pytz>=2017.3 in /Library/Frameworks/Python.framework/Versions/3.8/lib/python3.8/site-packages (from pandas) (2021.1)\n",
      "Requirement already satisfied: six>=1.5 in /Users/gyeongseon/Library/Python/3.8/lib/python/site-packages (from python-dateutil>=2.7.3->pandas) (1.15.0)\n",
      "Requirement already satisfied: pyparsing>=2.2.1 in /Library/Frameworks/Python.framework/Versions/3.8/lib/python3.8/site-packages (from matplotlib) (2.4.7)\n",
      "Requirement already satisfied: cycler>=0.10 in /Library/Frameworks/Python.framework/Versions/3.8/lib/python3.8/site-packages (from matplotlib) (0.10.0)\n",
      "Requirement already satisfied: kiwisolver>=1.0.1 in /Library/Frameworks/Python.framework/Versions/3.8/lib/python3.8/site-packages (from matplotlib) (1.3.1)\n",
      "Requirement already satisfied: pillow>=6.2.0 in /Library/Frameworks/Python.framework/Versions/3.8/lib/python3.8/site-packages (from matplotlib) (8.1.2)\n",
      "\u001b[33mWARNING: You are using pip version 21.1.1; however, version 21.2.4 is available.\n",
      "You should consider upgrading via the '/Library/Frameworks/Python.framework/Versions/3.8/bin/python3.8 -m pip install --upgrade pip' command.\u001b[0m\n"
     ]
    }
   ],
   "source": [
    "# !는 jupyter notebook에서 OS명령을 실행시킴\n",
    "!pip install pandas numpy matplotlib"
   ]
  },
  {
   "cell_type": "markdown",
   "metadata": {
    "id": "6IaY6-hvvwB8"
   },
   "source": [
    "### 2. 판다스(pandas) 라이브러리 사용법\n",
    "\n",
    "2.1 판다스 라이브러리 불러오기"
   ]
  },
  {
   "cell_type": "code",
   "execution_count": 3,
   "metadata": {
    "id": "4MPxBQeLv1zc"
   },
   "outputs": [],
   "source": [
    "# pandas library를 실행환경으로 불러오기 위해 임포트 (import)명령을 사용.\n",
    "# import [library-name] as [library-alias] -> 약칭 사용을 사용해서 사용성 높이기\n",
    "import pandas as pd"
   ]
  },
  {
   "cell_type": "markdown",
   "metadata": {
    "id": "wsC-vRlSxwvM"
   },
   "source": [
    "2.2 딕셔너리(dictionary)를 시리즈(series)로 변환"
   ]
  },
  {
   "cell_type": "code",
   "execution_count": 4,
   "metadata": {
    "colab": {
     "base_uri": "https://localhost:8080/"
    },
    "id": "MSrTpJfVx4xO",
    "outputId": "a59ecac4-7d96-40be-bcb8-ae6d86b8dfae"
   },
   "outputs": [
    {
     "name": "stdout",
     "output_type": "stream",
     "text": [
      "<class 'pandas.core.series.Series'>\n",
      "\n",
      "\n",
      "a    1\n",
      "b    2\n",
      "c    3\n",
      "dtype: int64\n"
     ]
    }
   ],
   "source": [
    "# {key: value} 구조를 갖는 딕셔너리를 만들고, 변수 dict_data에 저장한다.\n",
    "dict_data = {'a': 1, 'b': 2, 'c': 3}\n",
    "\n",
    "# pandas Series() 함수로 딕셔너리(dict_data)를 시리즈로 변환한다.\n",
    "# Series() 함수가 반환한 시리즈 객체를 변수 sr에 저장한다. \n",
    "# ✍🏻 sr은 Series 객체 명의 의미를 갖는다.\n",
    "sr = pd.Series(dict_data)\n",
    "\n",
    "# 변수 sr 자료형 출력\n",
    "print(type(sr))\n",
    "print('\\n')\n",
    "\n",
    "# 변수\n",
    "print(sr)"
   ]
  },
  {
   "cell_type": "code",
   "execution_count": 7,
   "metadata": {
    "colab": {
     "base_uri": "https://localhost:8080/"
    },
    "id": "D_9SEefKzA32",
    "outputId": "20392bc6-4a70-4404-cfef-552fbac8a39f"
   },
   "outputs": [
    {
     "name": "stdout",
     "output_type": "stream",
     "text": [
      "0    2021-09-08\n",
      "1          3.14\n",
      "2           ABC\n",
      "3           100\n",
      "4          True\n",
      "dtype: object\n"
     ]
    }
   ],
   "source": [
    "# python list는 어떠한 데이터현도 포함할 수 있다.\n",
    "list_data = ['2021-09-08', 3.14, 'ABC', 100, True]\n",
    "\n",
    "# pandas Series() 함수로 리스트(list_data)를 시리즈로 변환\n",
    "# Series() 함수가 반환한 시리즈 객체를 변수 sr에 저장\n",
    "\n",
    "# ✍🏻 python에서는 문자열도 객체 -> python 타입은 숫자 아님 객체\n",
    "sr = pd.Series(list_data)\n",
    "print(sr)"
   ]
  },
  {
   "cell_type": "code",
   "execution_count": 8,
   "metadata": {
    "colab": {
     "base_uri": "https://localhost:8080/"
    },
    "id": "4ochdmd_zlH7",
    "outputId": "5aca5c3b-62f9-4f40-a253-ff5e162ccdda"
   },
   "outputs": [
    {
     "name": "stdout",
     "output_type": "stream",
     "text": [
      "RangeIndex(start=0, stop=5, step=1)\n",
      "\n",
      "\n",
      "['2021-09-08' 3.14 'ABC' 100 True]\n"
     ]
    }
   ],
   "source": [
    "# 시리즈 index 속성은 인덱스 정보를 제공\n",
    "# 인덱스 범위 (RangeIndex)는 0부터 시작하고 마지막 인덱스값(stop)은 포함되지 않는다.\n",
    "print(sr.index)\n",
    "print('\\n')\n",
    "\n",
    "# 시리즈의 values 속성으로 데이터 배열을 불러온다.\n",
    "print(sr.values)"
   ]
  },
  {
   "cell_type": "markdown",
   "metadata": {
    "id": "wvXqirtKz8Gf"
   },
   "source": [
    "✍🏻 결과값에서 stop에 해당하는 인덱스는 포함 안된다는 의미\n",
    "```\n",
    "RangeIndex(start=0, stop=5, step=1)\n",
    "```\n",
    "\n",
    "따라서 현재 sr은 [0, 5)의 범위!"
   ]
  },
  {
   "cell_type": "markdown",
   "metadata": {
    "id": "buYhmuL88Ata"
   },
   "source": [
    "2.5 파이썬 튜플(tuple)을 시리즈(series)로 변환\n",
    "\n",
    "- [list]는 mutable(가변)으로 데이터를 변경할 수 있다.\n",
    "- (tuple)은 immutable(불변)으로 데이터를 변경할 수 없다."
   ]
  },
  {
   "cell_type": "code",
   "execution_count": 9,
   "metadata": {
    "colab": {
     "base_uri": "https://localhost:8080/"
    },
    "id": "JT0M-iDz3pdS",
    "outputId": "6d2c220d-d467-40d6-be98-c20353f3f0b7"
   },
   "outputs": [
    {
     "name": "stdout",
     "output_type": "stream",
     "text": [
      "이름              영인\n",
      "생년월일    2021-09-08\n",
      "성별               여\n",
      "학생여부          True\n",
      "dtype: object\n"
     ]
    }
   ],
   "source": [
    "# 튜플을 변수 tup_data에 저장한다.\n",
    "tup_data = ('영인', '2021-09-08', '여', True)\n",
    "\n",
    "# Series() 함수로 튜플(tup_data)를 시리즈로 변환\n",
    "# index option에 인덱스 이름을 지정한다.\n",
    "sr = pd.Series(tup_data, index=['이름', '생년월일', '성별', '학생여부'])\n",
    "print(sr)"
   ]
  },
  {
   "cell_type": "markdown",
   "metadata": {
    "id": "jzPjeIts8eAD"
   },
   "source": [
    "2.6 시리즈 원소 선택하기"
   ]
  },
  {
   "cell_type": "code",
   "execution_count": 9,
   "metadata": {
    "colab": {
     "base_uri": "https://localhost:8080/"
    },
    "id": "ktuOCzCY8gWJ",
    "outputId": "7d341bf1-2ea1-43ec-d303-10586cedb7ce"
   },
   "outputs": [
    {
     "name": "stdout",
     "output_type": "stream",
     "text": [
      "영인\n",
      "영인\n"
     ]
    }
   ],
   "source": [
    "# 원소를 1개 선택\n",
    "print(sr[0])          # 정수형 위치 인덱스를 활용\n",
    "print(sr['이름'])      # 인덱스 이름을 활용"
   ]
  },
  {
   "cell_type": "code",
   "execution_count": 10,
   "metadata": {
    "colab": {
     "base_uri": "https://localhost:8080/"
    },
    "id": "XNTgVTeO8mwf",
    "outputId": "3b26bd96-b5d1-4a60-cfca-0b86d8e76f9a"
   },
   "outputs": [
    {
     "name": "stdout",
     "output_type": "stream",
     "text": [
      "생년월일    2021-09-08\n",
      "성별               여\n",
      "dtype: object\n",
      "\n",
      "\n",
      "생년월일    2021-09-08\n",
      "성별               여\n",
      "dtype: object\n"
     ]
    }
   ],
   "source": [
    "# 여러 개의 원소를 선택 (인덱스 리스트 활용)\n",
    "print(sr[[1,2]])\n",
    "print('\\n')\n",
    "print(sr[['생년월일', '성별']])"
   ]
  },
  {
   "cell_type": "code",
   "execution_count": null,
   "metadata": {
    "colab": {
     "base_uri": "https://localhost:8080/"
    },
    "id": "lz7ghcOX_4sf",
    "outputId": "3b26bd96-b5d1-4a60-cfca-0b86d8e76f9a"
   },
   "outputs": [
    {
     "name": "stdout",
     "output_type": "stream",
     "text": [
      "생년월일    2021-09-08\n",
      "성별               여\n",
      "dtype: object\n",
      "\n",
      "\n",
      "생년월일    2021-09-08\n",
      "성별               여\n",
      "dtype: object\n"
     ]
    }
   ],
   "source": [
    "# 여러 개의 원소를 선택 (인덱스 범위 지정)\n",
    "# 정수형 인덱스 범위의 마지막 값은 포함되지 않는다.\n",
    "print(sr[1,2])\n",
    "print('\\n')\n",
    "\n",
    "# 인덱스 이름을 사용할 때에는 마지막 값이 포함된다.\n",
    "print(sr[['생년월일', '성별']])"
   ]
  },
  {
   "cell_type": "markdown",
   "metadata": {
    "id": "Pd90BxgU9A_a"
   },
   "source": [
    "2.7 딕셔너리(dictionary)를 데이터프레임으로 변환"
   ]
  },
  {
   "cell_type": "code",
   "execution_count": 11,
   "metadata": {
    "colab": {
     "base_uri": "https://localhost:8080/"
    },
    "id": "S5EcAlhO9GQ0",
    "outputId": "75876953-2803-4afe-bfc4-081cc6182137"
   },
   "outputs": [
    {
     "name": "stdout",
     "output_type": "stream",
     "text": [
      "<class 'pandas.core.frame.DataFrame'>\n",
      "\n",
      "\n",
      "   c0  c1  c2  c3  c4\n",
      "0   1   4   7  10  13\n",
      "1   2   5   8  11  14\n",
      "2   3   6   9  12  15\n"
     ]
    }
   ],
   "source": [
    "# 열 이름을 key로 하고, 리스트를 value로 갖는 dictionary를 정의\n",
    "dict_data = {'c0': [1,2,3], 'c1': [4,5,6], 'c2':[7,8,9], 'c3': [10,11,12], 'c4': [13, 14, 15]}\n",
    "\n",
    "# 판다스 DataFrame() 함수로 딕셔너리를 데이터프레임으로 변환한다.\n",
    "# DataFrame() 함수가 반환한 데이터프레임 객체를 변수 df에 저장한다.\n",
    "# ✍🏻 df는 dataframe객체이다.\n",
    "df = pd.DataFrame(dict_data)\n",
    "\n",
    "# df의 자료형 출력\n",
    "print(type(df))\n",
    "print('\\n')\n",
    "\n",
    "# 변수 df에 저장되어 있는 데이터프레임 객체를 출력\n",
    "print(df)"
   ]
  },
  {
   "cell_type": "markdown",
   "metadata": {
    "id": "QUKDZACO-3Mp"
   },
   "source": [
    "2.8 여러 개의 list를 데이터프레임으로 변환"
   ]
  },
  {
   "cell_type": "code",
   "execution_count": 12,
   "metadata": {
    "colab": {
     "base_uri": "https://localhost:8080/",
     "height": 204
    },
    "id": "5c_gNyjo9nhe",
    "outputId": "9af7cb8e-618b-44de-cd8c-601702e1479f"
   },
   "outputs": [
    {
     "data": {
      "text/html": [
       "<div>\n",
       "<style scoped>\n",
       "    .dataframe tbody tr th:only-of-type {\n",
       "        vertical-align: middle;\n",
       "    }\n",
       "\n",
       "    .dataframe tbody tr th {\n",
       "        vertical-align: top;\n",
       "    }\n",
       "\n",
       "    .dataframe thead th {\n",
       "        text-align: right;\n",
       "    }\n",
       "</style>\n",
       "<table border=\"1\" class=\"dataframe\">\n",
       "  <thead>\n",
       "    <tr style=\"text-align: right;\">\n",
       "      <th></th>\n",
       "      <th>Names</th>\n",
       "      <th>Births</th>\n",
       "    </tr>\n",
       "  </thead>\n",
       "  <tbody>\n",
       "    <tr>\n",
       "      <th>0</th>\n",
       "      <td>Bob</td>\n",
       "      <td>123</td>\n",
       "    </tr>\n",
       "    <tr>\n",
       "      <th>1</th>\n",
       "      <td>Jessica</td>\n",
       "      <td>254</td>\n",
       "    </tr>\n",
       "    <tr>\n",
       "      <th>2</th>\n",
       "      <td>Mary</td>\n",
       "      <td>32</td>\n",
       "    </tr>\n",
       "    <tr>\n",
       "      <th>3</th>\n",
       "      <td>John</td>\n",
       "      <td>235</td>\n",
       "    </tr>\n",
       "    <tr>\n",
       "      <th>4</th>\n",
       "      <td>Mel</td>\n",
       "      <td>243</td>\n",
       "    </tr>\n",
       "  </tbody>\n",
       "</table>\n",
       "</div>"
      ],
      "text/plain": [
       "     Names  Births\n",
       "0      Bob     123\n",
       "1  Jessica     254\n",
       "2     Mary      32\n",
       "3     John     235\n",
       "4      Mel     243"
      ]
     },
     "execution_count": 12,
     "metadata": {},
     "output_type": "execute_result"
    }
   ],
   "source": [
    "# 먼저 개수가 같은 3개의 리스트를 생성한다.\n",
    "names=['Bob','Jessica','Mary','John','Mel']\n",
    "births = [123,254,32,235,243]\n",
    "custom = [1,5,3,4,654,23]\n",
    "\n",
    "# zip()는 길이가 같은 리스트 등의 요소를 묶어준다.\n",
    "# list()는 리스트 자료형으로 변환해준다.\n",
    "BabyDataSet = list(zip(names, births))\n",
    "\n",
    "# pd.DataFrame(data=BabyDataSet, columns=컬럼명)으로 데이터프레임이 생성된다.\n",
    "df = pd.DataFrame(data=BabyDataSet, columns=['Names', 'Births'])\n",
    "\n",
    "# 데이터가 많을 때: 데이터프레임의 상위 5개의 행을 출력 \n",
    "df.head()"
   ]
  },
  {
   "cell_type": "markdown",
   "metadata": {
    "id": "VirDDcGk-XAj"
   },
   "source": [
    "2.9 데이터프레임의 기본 정보 출력하기"
   ]
  },
  {
   "cell_type": "code",
   "execution_count": 13,
   "metadata": {
    "colab": {
     "base_uri": "https://localhost:8080/"
    },
    "id": "zBrcfatG-bW8",
    "outputId": "24b8153a-ed1b-4685-c990-0091f69e0c6f"
   },
   "outputs": [
    {
     "name": "stdout",
     "output_type": "stream",
     "text": [
      "Names     object\n",
      "Births     int64\n",
      "dtype: object\n",
      "--------------\n",
      "RangeIndex(start=0, stop=5, step=1)\n",
      "--------------\n",
      "Index(['Names', 'Births'], dtype='object')\n",
      "--------------\n",
      "[['Bob' 123]\n",
      " ['Jessica' 254]\n",
      " ['Mary' 32]\n",
      " ['John' 235]\n",
      " ['Mel' 243]]\n"
     ]
    }
   ],
   "source": [
    "# 데이터프레임의 타입(type) 정보 --> 데이터 타입을 알 수 있다.\n",
    "print(df.dtypes)\n",
    "print(\"--------------\")\n",
    "\n",
    "# 데이터프레임의 index 정보 --> 행의 수를 알 수 있다.\n",
    "print(df.index)\n",
    "print(\"--------------\")\n",
    "\n",
    "# 데이터프레임의 열의 정보 --> 컬럼명을 알 수 있다.\n",
    "print(df.columns)\n",
    "print(\"--------------\")\n",
    "print(df.values)"
   ]
  },
  {
   "cell_type": "markdown",
   "metadata": {
    "id": "66voVudjBICR"
   },
   "source": [
    "2.10 데이터프레임의 특정 행과 열 선택하기"
   ]
  },
  {
   "cell_type": "code",
   "execution_count": 14,
   "metadata": {
    "colab": {
     "base_uri": "https://localhost:8080/"
    },
    "id": "sVpP-rvEBKq_",
    "outputId": "7c303259-c7dd-455b-97b5-97416d6fa41b"
   },
   "outputs": [
    {
     "data": {
      "text/plain": [
       "0        Bob\n",
       "1    Jessica\n",
       "2       Mary\n",
       "3       John\n",
       "4        Mel\n",
       "Name: Names, dtype: object"
      ]
     },
     "execution_count": 14,
     "metadata": {},
     "output_type": "execute_result"
    }
   ],
   "source": [
    "# 데이터프레임에서 하나의 열을 선택한다.\n",
    "df['Names']"
   ]
  },
  {
   "cell_type": "markdown",
   "metadata": {
    "id": "p2WgW1Y7BQOM"
   },
   "source": [
    "2.11 데이터프레임의 인덱스 선택하기"
   ]
  },
  {
   "cell_type": "code",
   "execution_count": 15,
   "metadata": {
    "colab": {
     "base_uri": "https://localhost:8080/",
     "height": 142
    },
    "id": "lmYPTR3UBTDj",
    "outputId": "0dad2cec-5b51-4ff2-9bf5-49b60c0a87ea"
   },
   "outputs": [
    {
     "data": {
      "text/html": [
       "<div>\n",
       "<style scoped>\n",
       "    .dataframe tbody tr th:only-of-type {\n",
       "        vertical-align: middle;\n",
       "    }\n",
       "\n",
       "    .dataframe tbody tr th {\n",
       "        vertical-align: top;\n",
       "    }\n",
       "\n",
       "    .dataframe thead th {\n",
       "        text-align: right;\n",
       "    }\n",
       "</style>\n",
       "<table border=\"1\" class=\"dataframe\">\n",
       "  <thead>\n",
       "    <tr style=\"text-align: right;\">\n",
       "      <th></th>\n",
       "      <th>Names</th>\n",
       "      <th>Births</th>\n",
       "    </tr>\n",
       "  </thead>\n",
       "  <tbody>\n",
       "    <tr>\n",
       "      <th>0</th>\n",
       "      <td>Bob</td>\n",
       "      <td>123</td>\n",
       "    </tr>\n",
       "    <tr>\n",
       "      <th>1</th>\n",
       "      <td>Jessica</td>\n",
       "      <td>254</td>\n",
       "    </tr>\n",
       "    <tr>\n",
       "      <th>2</th>\n",
       "      <td>Mary</td>\n",
       "      <td>32</td>\n",
       "    </tr>\n",
       "  </tbody>\n",
       "</table>\n",
       "</div>"
      ],
      "text/plain": [
       "     Names  Births\n",
       "0      Bob     123\n",
       "1  Jessica     254\n",
       "2     Mary      32"
      ]
     },
     "execution_count": 15,
     "metadata": {},
     "output_type": "execute_result"
    }
   ],
   "source": [
    "# 데이터프레임의 특정 행(인덱스)을 선택한다.\n",
    "# df[start:stop] start index는 0부터 시작, (stop index -1) 까지 행이 선택된다.\n",
    "df[0:3]"
   ]
  },
  {
   "cell_type": "markdown",
   "metadata": {
    "id": "tX9ejsXGBhT4"
   },
   "source": [
    "2.12 데이터프레임의 필터링 기능"
   ]
  },
  {
   "cell_type": "code",
   "execution_count": 16,
   "metadata": {
    "colab": {
     "base_uri": "https://localhost:8080/",
     "height": 173
    },
    "id": "DLGYkScpBjvm",
    "outputId": "87a7e746-146b-416b-c4b4-e3ace9def4d8"
   },
   "outputs": [
    {
     "data": {
      "text/html": [
       "<div>\n",
       "<style scoped>\n",
       "    .dataframe tbody tr th:only-of-type {\n",
       "        vertical-align: middle;\n",
       "    }\n",
       "\n",
       "    .dataframe tbody tr th {\n",
       "        vertical-align: top;\n",
       "    }\n",
       "\n",
       "    .dataframe thead th {\n",
       "        text-align: right;\n",
       "    }\n",
       "</style>\n",
       "<table border=\"1\" class=\"dataframe\">\n",
       "  <thead>\n",
       "    <tr style=\"text-align: right;\">\n",
       "      <th></th>\n",
       "      <th>Names</th>\n",
       "      <th>Births</th>\n",
       "    </tr>\n",
       "  </thead>\n",
       "  <tbody>\n",
       "    <tr>\n",
       "      <th>0</th>\n",
       "      <td>Bob</td>\n",
       "      <td>123</td>\n",
       "    </tr>\n",
       "    <tr>\n",
       "      <th>1</th>\n",
       "      <td>Jessica</td>\n",
       "      <td>254</td>\n",
       "    </tr>\n",
       "    <tr>\n",
       "      <th>3</th>\n",
       "      <td>John</td>\n",
       "      <td>235</td>\n",
       "    </tr>\n",
       "    <tr>\n",
       "      <th>4</th>\n",
       "      <td>Mel</td>\n",
       "      <td>243</td>\n",
       "    </tr>\n",
       "  </tbody>\n",
       "</table>\n",
       "</div>"
      ],
      "text/plain": [
       "     Names  Births\n",
       "0      Bob     123\n",
       "1  Jessica     254\n",
       "3     John     235\n",
       "4      Mel     243"
      ]
     },
     "execution_count": 16,
     "metadata": {},
     "output_type": "execute_result"
    }
   ],
   "source": [
    "# Births 열에서 100보다 큰 데이터를 필터링한다.\n",
    "df[df['Births'] > 100]"
   ]
  },
  {
   "cell_type": "markdown",
   "metadata": {
    "id": "UfvODp7LBtfl"
   },
   "source": [
    "2.13 평균값을 구하는 기능"
   ]
  },
  {
   "cell_type": "code",
   "execution_count": 17,
   "metadata": {
    "colab": {
     "base_uri": "https://localhost:8080/"
    },
    "id": "XSEOXknjBvYs",
    "outputId": "a0512d7d-70c6-466e-be54-af03246bd822"
   },
   "outputs": [
    {
     "data": {
      "text/plain": [
       "Births    177.4\n",
       "dtype: float64"
      ]
     },
     "execution_count": 17,
     "metadata": {},
     "output_type": "execute_result"
    }
   ],
   "source": [
    "# mean()는 각 열의 데이터타입을 체크한 뒤, 수치형 데이터에 대해 평균을 구한다.\n",
    "df.mean()"
   ]
  }
 ],
 "metadata": {
  "colab": {
   "collapsed_sections": [
    "xBHHynUCuUGI"
   ],
   "name": "기계학습 2주차-1 박경선(20171101)",
   "provenance": []
  },
  "kernelspec": {
   "display_name": "Python 3 (ipykernel)",
   "language": "python",
   "name": "python3"
  },
  "language_info": {
   "codemirror_mode": {
    "name": "ipython",
    "version": 3
   },
   "file_extension": ".py",
   "mimetype": "text/x-python",
   "name": "python",
   "nbconvert_exporter": "python",
   "pygments_lexer": "ipython3",
   "version": "3.8.0"
  }
 },
 "nbformat": 4,
 "nbformat_minor": 1
}

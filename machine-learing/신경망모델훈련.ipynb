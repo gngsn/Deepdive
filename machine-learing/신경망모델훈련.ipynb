{
  "cells": [
    {
      "cell_type": "markdown",
      "metadata": {
        "id": "uoOQA7HbMNsG"
      },
      "source": [
        "## 11장. 신경망 모델 훈련"
      ]
    },
    {
      "cell_type": "markdown",
      "metadata": {
        "id": "5IgpPgJ_KBXP"
      },
      "source": [
        "### 손실 곡선\n",
        "**[1.1] 패션 MNIST 데이터셋을 적재하고 훈련세트와 검증세트를 분리**"
      ]
    },
    {
      "cell_type": "code",
      "execution_count": 1,
      "metadata": {
        "colab": {
          "base_uri": "https://localhost:8080/"
        },
        "id": "DM59vr_eLRZW",
        "outputId": "9c7e2e67-323a-4199-e563-12acf4d78f3e"
      },
      "outputs": [
        {
          "name": "stdout",
          "output_type": "stream",
          "text": [
            "Downloading data from https://storage.googleapis.com/tensorflow/tf-keras-datasets/train-labels-idx1-ubyte.gz\n",
            "32768/29515 [=================================] - 0s 0us/step\n",
            "40960/29515 [=========================================] - 0s 0us/step\n",
            "Downloading data from https://storage.googleapis.com/tensorflow/tf-keras-datasets/train-images-idx3-ubyte.gz\n",
            "26427392/26421880 [==============================] - 0s 0us/step\n",
            "26435584/26421880 [==============================] - 0s 0us/step\n",
            "Downloading data from https://storage.googleapis.com/tensorflow/tf-keras-datasets/t10k-labels-idx1-ubyte.gz\n",
            "16384/5148 [===============================================================================================] - 0s 0us/step\n",
            "Downloading data from https://storage.googleapis.com/tensorflow/tf-keras-datasets/t10k-images-idx3-ubyte.gz\n",
            "4423680/4422102 [==============================] - 0s 0us/step\n",
            "4431872/4422102 [==============================] - 0s 0us/step\n"
          ]
        }
      ],
      "source": [
        "# 텐서플로 라이브러리에서 keras 패키지를 임포트한다.\n",
        "from tensorflow import keras\n",
        "from sklearn.model_selection import train_test_split\n",
        "\n",
        "# 패션 MNIST 데이터를 로드한다.\n",
        "(train_input, train_target), (test_input, test_target) = \\\n",
        "    keras.datasets.fashion_mnist.load_data()\n",
        "\n",
        "# 훈련데이터를 0~1 사이의 값으로 정규화한다.\n",
        "train_scaled = train_input / 255.0\n",
        "\n",
        "# 훈련세트와 검증세트로 분리한다.\n",
        "train_scaled, val_scaled, train_target, val_target = train_test_split(\n",
        "    train_scaled, train_target, test_size=0.2, random_state=42\n",
        ")"
      ]
    },
    {
      "cell_type": "markdown",
      "metadata": {
        "id": "eXn5N-K_SO_R"
      },
      "source": [
        "**1.2 신경망 모델을 만드는 함수 만들기**"
      ]
    },
    {
      "cell_type": "code",
      "execution_count": 2,
      "metadata": {
        "id": "86Zucnj4SUng"
      },
      "outputs": [],
      "source": [
        "\n",
        "def model_fn(a_layer=None):\n",
        "  # 신경망 모델을 생성한다.\n",
        "  model = keras.Sequential()\n",
        "  # Flatten 층을 추가한다.\n",
        "  model.add(keras.layers.Flatten(input_shape=(28, 28)))\n",
        "  # 뉴런이 100개인 Dense 층을 추가한다.\n",
        "  model.add(keras.layers.Dense(100, activation='relu'))\n",
        "  # 매개변수 a_layer가 값이 있으면 Dense 층을 추가한다.\n",
        "  if a_layer:\n",
        "    model.add(a_layer)\n",
        "  model.add(keras.layers.Dense(10, activation='softmax'))\n",
        "  return model"
      ]
    },
    {
      "cell_type": "code",
      "execution_count": 3,
      "metadata": {
        "colab": {
          "base_uri": "https://localhost:8080/"
        },
        "id": "rm3WIrN8S4Ou",
        "outputId": "c6faadf3-2039-452a-de8d-cb0dec65f832"
      },
      "outputs": [
        {
          "name": "stdout",
          "output_type": "stream",
          "text": [
            "Model: \"sequential\"\n",
            "_________________________________________________________________\n",
            " Layer (type)                Output sealed.Shape              Param #   \n",
            "=================================================================\n",
            " flatten (Flatten)           (None, 784)               0         \n",
            "                                                                 \n",
            " dense (Dense)               (None, 100)               78500     \n",
            "                                                                 \n",
            " dense_1 (Dense)             (None, 10)                1010      \n",
            "                                                                 \n",
            "=================================================================\n",
            "Total params: 79,510\n",
            "Trainable params: 79,510\n",
            "Non-trainable params: 0\n",
            "_________________________________________________________________\n"
          ]
        }
      ],
      "source": [
        "# a_layer 매개변수로 층을 추가하지 않고 함수를 호출한다.\n",
        "model = model_fn()\n",
        "# 모델의 요약정보를 확인한다.\n",
        "model.summary()"
      ]
    },
    {
      "cell_type": "markdown",
      "metadata": {
        "id": "YJ8gfI6QTgag"
      },
      "source": [
        "**1.3 훈련결과를 저장하고 확인하기**"
      ]
    },
    {
      "cell_type": "code",
      "execution_count": 4,
      "metadata": {
        "id": "kmlN4Ql3Tojk"
      },
      "outputs": [],
      "source": [
        "# 모델을 훈련시키기 전에 설정을 지정한다.\n",
        "model.compile(loss='sparse_categorical_crossentropy', metrics='accuracy')\n",
        "\n",
        "# 훈련 결과를 history에 저장한다.\n",
        "history = model.fit(train_scaled, train_target, epochs=5, verbose=0)"
      ]
    },
    {
      "cell_type": "code",
      "execution_count": 5,
      "metadata": {
        "colab": {
          "base_uri": "https://localhost:8080/"
        },
        "id": "ChMiYZ6XTvcf",
        "outputId": "4aab0f1c-49c0-44e8-d971-bf1fb267a52e"
      },
      "outputs": [
        {
          "name": "stdout",
          "output_type": "stream",
          "text": [
            "dict_keys(['loss', 'accuracy'])\n"
          ]
        }
      ],
      "source": [
        "# history 객체에는 훈련 측정값이 담겨있는 history 딕셔너리가 들어있다.\n",
        "# history 딕셔너리에 어떤 값이 들어있는지 확인한다.\n",
        "\n",
        "print(history.history.keys())"
      ]
    },
    {
      "cell_type": "code",
      "execution_count": 6,
      "metadata": {
        "colab": {
          "base_uri": "https://localhost:8080/"
        },
        "id": "Cm2lN1I5_D1D",
        "outputId": "fd0c9157-6baa-4f63-c2e8-23442e338437"
      },
      "outputs": [
        {
          "name": "stdout",
          "output_type": "stream",
          "text": [
            "Epoch 1/5\n",
            "1500/1500 [==============================] - 5s 3ms/step - loss: 0.3095 - accuracy: 0.8907\n",
            "Epoch 2/5\n",
            "1500/1500 [==============================] - 5s 3ms/step - loss: 0.2998 - accuracy: 0.8956\n",
            "Epoch 3/5\n",
            "1500/1500 [==============================] - 5s 3ms/step - loss: 0.2906 - accuracy: 0.8955\n",
            "Epoch 4/5\n",
            "1500/1500 [==============================] - 4s 3ms/step - loss: 0.2847 - accuracy: 0.9013\n",
            "Epoch 5/5\n",
            "1500/1500 [==============================] - 4s 3ms/step - loss: 0.2757 - accuracy: 0.9046\n"
          ]
        }
      ],
      "source": [
        "# 모델을 훈련시키기 전에 설정을 지정한다.\n",
        "model.compile(loss='sparse_categorical_crossentropy', metrics='accuracy')\n",
        "\n",
        "# 훈련 결과를 history에 저장한다.\n",
        "# verbose=1 은 훈련 과정을 나타낸다.\n",
        "history = model.fit(train_scaled, train_target, epochs=5, verbose=1)"
      ]
    },
    {
      "cell_type": "markdown",
      "metadata": {
        "id": "h9c5hIar_Ye4"
      },
      "source": [
        "**1.4 훈련결과로 그래프 그리기**"
      ]
    },
    {
      "cell_type": "code",
      "execution_count": 17,
      "metadata": {
        "colab": {
          "base_uri": "https://localhost:8080/"
        },
        "id": "Bx7de1gkAJbN",
        "outputId": "95ccacb3-55fc-4c51-cc84-22aab9c36584"
      },
      "outputs": [
        {
          "name": "stdout",
          "output_type": "stream",
          "text": [
            "{'loss': [0.5209789276123047, 0.3900889754295349, 0.35139575600624084, 0.33018457889556885, 0.31680798530578613, 0.30634164810180664, 0.2970150411128998, 0.2864852845668793, 0.28223666548728943, 0.2727539539337158, 0.26838332414627075, 0.26356789469718933, 0.2602519989013672, 0.25369516015052795, 0.24946163594722748, 0.24620436131954193, 0.24143458902835846, 0.23701810836791992, 0.23416298627853394, 0.23114927113056183], 'accuracy': [0.815458357334137, 0.8598750233650208, 0.8745625019073486, 0.8819791674613953, 0.8873958587646484, 0.8906458616256714, 0.8942708373069763, 0.8986250162124634, 0.901687502861023, 0.9052500128746033, 0.906541645526886, 0.9080833196640015, 0.9104375243186951, 0.9122708439826965, 0.9145416617393494, 0.9160208106040955, 0.9158750176429749, 0.9182083606719971, 0.9207916855812073, 0.9225208163261414], 'val_loss': [0.40094372630119324, 0.37311190366744995, 0.35963761806488037, 0.3921448290348053, 0.36155882477760315, 0.3728904128074646, 0.3745201528072357, 0.3719862401485443, 0.4000135064125061, 0.37865790724754333, 0.3942675292491913, 0.41550981998443604, 0.39914175868034363, 0.3979984521865845, 0.4386870563030243, 0.4848921298980713, 0.44385001063346863, 0.5189784169197083, 0.45022305846214294, 0.44325414299964905], 'val_accuracy': [0.8582500219345093, 0.8657500147819519, 0.8769999742507935, 0.8663333058357239, 0.878333330154419, 0.8767499923706055, 0.871666669845581, 0.8793333172798157, 0.8785833120346069, 0.8820000290870667, 0.877916693687439, 0.878083348274231, 0.8805000185966492, 0.8833333253860474, 0.8790833353996277, 0.871833324432373, 0.8786666393280029, 0.8644166588783264, 0.8768333196640015, 0.8824999928474426]}\n"
          ]
        }
      ],
      "source": [
        "print(history.history)"
      ]
    },
    {
      "cell_type": "code",
      "execution_count": 8,
      "metadata": {
        "colab": {
          "base_uri": "https://localhost:8080/",
          "height": 279
        },
        "id": "uu2wQqYq_U7y",
        "outputId": "85e5c581-efc3-4a51-89a8-99723e18984f"
      },
      "outputs": [
        {
          "data": {
            "image/png": "[encoded data removed]",
            "text/plain": [
              "<Figure size 432x288 with 1 Axes>"
            ]
          },
          "metadata": {
            "needs_background": "light"
          },
          "output_type": "display_data"
        }
      ],
      "source": [
        "import matplotlib.pyplot as plt\n",
        "\n",
        "# 손실 값을 그래프로 그린다.\n",
        "plt.plot(history.history['loss'])\n",
        "plt.xlabel('epoch')\n",
        "plt.ylabel('loss')\n",
        "# savefig()으로 그래프를 이미지로 저장한다.\n",
        "# dpi(Dots per Inch)는 이미지의 해상도를 설정한다. 기본값은 dpi=100\n",
        "plt.savefig('loss_epo5', dpi=300)\n",
        "plt.show()"
      ]
    },
    {
      "cell_type": "code",
      "execution_count": 9,
      "metadata": {
        "colab": {
          "base_uri": "https://localhost:8080/",
          "height": 279
        },
        "id": "zNcRTYJl_1w3",
        "outputId": "28e33731-97b0-4736-fa25-8e9520fbac30"
      },
      "outputs": [
        {
          "data": {
            "image/png": "[encoded data removed]",
            "text/plain": [
              "<Figure size 432x288 with 1 Axes>"
            ]
          },
          "metadata": {
            "needs_background": "light"
          },
          "output_type": "display_data"
        }
      ],
      "source": [
        "# 정확도를 그래프로 그린다.\n",
        "plt.plot(history.history['accuracy'])\n",
        "plt.xlabel('epoch')\n",
        "plt.ylabel('accuracy')\n",
        "plt.savefig('loss_epo5', dpi=300)\n",
        "plt.show()"
      ]
    },
    {
      "cell_type": "markdown",
      "metadata": {
        "id": "CM1FiyAhA0Nw"
      },
      "source": [
        "**1.5 에포크를 20으로 지정하고 훈련시키기**"
      ]
    },
    {
      "cell_type": "code",
      "execution_count": 10,
      "metadata": {
        "id": "vsOHI_FuAgIn"
      },
      "outputs": [],
      "source": [
        "# 함수를 호출하여 신경망 모델을 다시 생성한다.\n",
        "model = model_fn()\n",
        "\n",
        "# 에포크를 20으로 지정하고 훈련시킨다.\n",
        "model.compile(loss='sparse_categorical_crossentropy', metrics='accuracy')\n",
        "history = model.fit(train_scaled, train_target, epochs=20, verbose=0)"
      ]
    },
    {
      "cell_type": "code",
      "execution_count": 12,
      "metadata": {
        "colab": {
          "base_uri": "https://localhost:8080/",
          "height": 279
        },
        "id": "UNaoDd9IBUd2",
        "outputId": "8500a6c8-ef75-447e-d079-8a3fc3964883"
      },
      "outputs": [
        {
          "data": {
            "image/png": "[encoded data removed]",
            "text/plain": [
              "<Figure size 432x288 with 1 Axes>"
            ]
          },
          "metadata": {
            "needs_background": "light"
          },
          "output_type": "display_data"
        }
      ],
      "source": [
        "# 손실 값을 그래프로 그린다.\n",
        "plt.plot(history.history['loss'])\n",
        "plt.xlabel('epoch')\n",
        "plt.ylabel('loss')\n",
        "plt.savefig('loss_epo20', dpi=300)\n",
        "plt.show()"
      ]
    },
    {
      "cell_type": "markdown",
      "metadata": {
        "id": "Zm49KMZQBkEm"
      },
      "source": [
        "### 검증 손실\n",
        "**2.1 에포크마다 검증 손실을 계산하기**"
      ]
    },
    {
      "cell_type": "code",
      "execution_count": 16,
      "metadata": {
        "id": "M9P3rKAlBauT"
      },
      "outputs": [],
      "source": [
        "model = model_fn()\n",
        "model.compile(loss='sparse_categorical_crossentropy', metrics='accuracy')\n",
        "\n",
        "# fit()의 validation_data 매개변수에 검증에 사용할 입력과 타깃값을 전달한다.\n",
        "history = model.fit(train_scaled, train_target, epochs=20, verbose=0,\n",
        "                      validation_data=(val_scaled, val_target))"
      ]
    },
    {
      "cell_type": "code",
      "execution_count": 18,
      "metadata": {
        "colab": {
          "base_uri": "https://localhost:8080/"
        },
        "id": "Gr_0toNJB03P",
        "outputId": "f4c129f3-ab48-46d3-83c5-08f4440b96f2"
      },
      "outputs": [
        {
          "name": "stdout",
          "output_type": "stream",
          "text": [
            "dict_keys(['loss', 'accuracy', 'val_loss', 'val_accuracy'])\n"
          ]
        }
      ],
      "source": [
        "# 반환된 history 객체의 history 딕셔너리에 어떤 값이 들어있는지 확인한다.\n",
        "print(history.history.keys())"
      ]
    },
    {
      "cell_type": "markdown",
      "metadata": {
        "id": "Mhu-ExirCRzm"
      },
      "source": [
        "### 3. 드롭아웃\n",
        "**3.1 드롭아웃층 추가하기**"
      ]
    },
    {
      "cell_type": "code",
      "execution_count": 19,
      "metadata": {
        "colab": {
          "base_uri": "https://localhost:8080/"
        },
        "id": "XBvdZpfrCKGd",
        "outputId": "9a42b5f0-f52a-419d-841c-6a0e5e084ae1"
      },
      "outputs": [
        {
          "name": "stdout",
          "output_type": "stream",
          "text": [
            "Model: \"sequential_4\"\n",
            "_________________________________________________________________\n",
            " Layer (type)                Output sealed.Shape              Param #   \n",
            "=================================================================\n",
            " flatten_4 (Flatten)         (None, 784)               0         \n",
            "                                                                 \n",
            " dense_8 (Dense)             (None, 100)               78500     \n",
            "                                                                 \n",
            " dropout_1 (Dropout)         (None, 100)               0         \n",
            "                                                                 \n",
            " dense_9 (Dense)             (None, 10)                1010      \n",
            "                                                                 \n",
            "=================================================================\n",
            "Total params: 79,510\n",
            "Trainable params: 79,510\n",
            "Non-trainable params: 0\n",
            "_________________________________________________________________\n"
          ]
        }
      ],
      "source": [
        "# 위에서 만든 model_fn()을 이용하여 30% 정도를 드롭아웃층으로 추가한다.\n",
        "model = model_fn(keras.layers.Dropout(0.3))\n",
        "\n",
        "model.summary()"
      ]
    },
    {
      "cell_type": "code",
      "execution_count": 20,
      "metadata": {
        "id": "IEZV-7ybCeHy"
      },
      "outputs": [],
      "source": [
        "# 드롭아웃 층을 추가하고 다시 신경망 모델을 훈련시킨다.\n",
        "model.compile(optimizer='adam', loss='sparse_categorical_crossentropy', metrics='accuracy')\n",
        "\n",
        "history = model.fit(train_scaled, train_target, epochs=20, verbose=0,\n",
        "                      validation_data=(val_scaled, val_target))"
      ]
    },
    {
      "cell_type": "code",
      "execution_count": 21,
      "metadata": {
        "colab": {
          "base_uri": "https://localhost:8080/",
          "height": 279
        },
        "id": "YmtDQd6ICrkR",
        "outputId": "b54a6b28-e8d8-4c3b-b2f3-258b7dccd416"
      },
      "outputs": [
        {
          "data": {
            "image/png": "[encoded data removed]",
            "text/plain": [
              "<Figure size 432x288 with 1 Axes>"
            ]
          },
          "metadata": {
            "needs_background": "light"
          },
          "output_type": "display_data"
        }
      ],
      "source": [
        "# 훈련 손실을 그래프로 그린다.\n",
        "plt.plot(history.history['loss'])\n",
        "# 손실 값을 그래프로 그린다.\n",
        "plt.plot(history.history['val_loss'])\n",
        "plt.xlabel('epoch')\n",
        "plt.ylabel('loss')\n",
        "plt.legend(['train', 'val'])\n",
        "plt.savefig('dropout', dpi=300)\n",
        "plt.show()"
      ]
    }
  ],
  "metadata": {
    "accelerator": "GPU",
    "colab": {
      "collapsed_sections": [],
      "name": "기계학습_12주차_박경선(20171101)_신경망모델학습.ipynb",
      "provenance": []
    },
    "kernelspec": {
      "display_name": "Python 3",
      "name": "python3"
    },
    "language_info": {
      "name": "python"
    }
  },
  "nbformat": 4,
  "nbformat_minor": 0
}
